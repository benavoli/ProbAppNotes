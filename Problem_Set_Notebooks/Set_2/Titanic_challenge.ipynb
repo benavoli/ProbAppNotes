{
 "cells": [
  {
   "cell_type": "markdown",
   "metadata": {
    "_active": false,
    "_cell_guid": "85501a66-137e-9fcf-2efa-fb59da2e9ab9",
    "_uuid": "fd2c282691d1cc9a91eed92ef8945d4358558a78"
   },
   "source": [
    "# Introduction\n",
    "\n",
    "In this Notebook, you will learn that\n",
    "1. logistic regression with reguralisation is equivalent to MAP\n",
    "2. the MAP point estimate may be very different from the posterior mean in high dimensions and why the probability returned by general recipe logistic regression (`sklearn`) is not a useful measure of uncertainty.\n",
    "\n",
    "\n",
    "## Logistic regression as MAP\n",
    "\n",
    "https://scikit-learn.org/stable/modules/linear_model.html#logistic-regression\n",
    "\n",
    "As an optimization problem, binary class $\\ell_2$ penalized logistic regression minimizes the following cost function:\n",
    "\n",
    "$$\n",
    "\\min_{w, c} \\frac{w^T w}{2 } + C \\sum_{i=1}^n \\log(\\exp(- y_i (X_i^T w + c)) + 1) .\n",
    "$$\n",
    "\n",
    "where $y_i\\in\\{-1,1\\}$ is the class variable (instead of denoting class as $\\{0,1\\}$ for convenience $\\{-1,1\\}$\n",
    "is used in the above formula, that is the class $0$ is represented as $-1$). $w$ are the weights (slopes) and $c$ is the intercept, while $C\\geq0$ is the reguralization constant.\n",
    "\n",
    "The above minimization problem can equivalently be written as\n",
    "\n",
    "$$\n",
    "\\max_{w, c} -\\frac{w^T w}{2 C}-  \\sum_{i=1}^n \\log(\\exp(- y_i (X_i^T w + c)) + 1) \n",
    "$$\n",
    "that is the solution $w, c$ is the same as the above problem, or, equivalently, by exponentiating as\n",
    "\n",
    "$$\n",
    "\\max_{w, c} e^{-\\frac{w^T w}{2 C}}\\prod_{i=1}^n \\frac{1}{e^{- y_i (X_i^T w + c))}+1}\n",
    "$$\n",
    "\n",
    "By expressing the class variable as $\\{0,1\\}$, the above maximization problem is also equivalent to\n",
    "\n",
    "$$\n",
    "\\max_{w, c} e^{-\\frac{w^T w}{2 C}}\\prod_{i=1}^n \\Phi(X_i^T w + c)^{y_i} (1-\\Phi(X_i^T w + c))^{1-y_i}\n",
    "$$\n",
    "with\n",
    "$$\n",
    "\\Phi(X_i^T w + c)=\\frac{1}{e^{- (X_i^T w + c)}+1}\n",
    "$$\n",
    "\n",
    "If we use our notation denoting $w$ with $\\beta$ and $c$ with $\\alpha$, we have\n",
    "$$\n",
    "\\max_{\\beta, \\alpha} e^{-\\frac{\\beta^T \\beta}{2 C}}\\prod_{i=1}^n \\Phi(X_i^T \\beta + \\alpha)^{y_i} (1-\\Phi(X_i^T  \\beta + \\alpha)^{1-y_i}\n",
    "$$\n",
    "which is also equivalent to\n",
    "$$\n",
    "\\max_{\\beta, \\alpha} \\left(\\frac{1}{\\sqrt{2\\pi C}}\\right)^b e^{-\\frac{\\beta^T \\beta}{2 C}}\\prod_{i=1}^n \\Phi(X_i^T \\beta + \\alpha)^{y_i} (1-\\Phi(X_i^T  \\beta + \\alpha)^{1-y_i}\n",
    "$$\n",
    "where $b$ is the length of $\\beta$, that is the number of features (columns of the data matrix $X$),\n",
    "in fact multiplying by a positive constant that does not depend on the optimization variables $\\alpha,\\beta$\n",
    "does not change the maximum.\n",
    " \n",
    "Therefore we have showed that the above **maximization problem is a MAP estimator** for the following probabilistic model:\n",
    "\n",
    "**Likelihood**\n",
    "$$\n",
    "p(data|\\beta , \\alpha)=\\prod_{i=1}^n \\Phi(X_i^T \\beta + \\alpha)^{y_i} (1-\\Phi(X_i^T  \\beta + \\alpha)^{1-y_i}\n",
    "$$\n",
    "\n",
    "**Prior**\n",
    "$$\n",
    "p(\\beta)= \\left(\\tfrac{1}{\\sqrt{2\\pi \\sigma^2}}\\right)^b e^{-\\frac{\\beta^T \\beta}{2 \\sigma^2}}\n",
    "$$\n",
    "with $C=\\sigma^2$.\n",
    "\n",
    "and\n",
    "$$\n",
    "p(\\alpha)= \\left(\\tfrac{1}{\\sqrt{2\\pi r}}\\right) e^{-\\frac{\\alpha^2}{2 r}}\n",
    "$$\n",
    "with $r$ very very large, so that $p(\\alpha)$ is very small and has not effect on the maximization.\n",
    "\n",
    "We will also verify that in the following problem by showing that the solution that `sklearn` returns is the same as the MAP problem solved via PyMC3 for the probabilistic model above (apart from small numerical differences)."
   ]
  },
  {
   "cell_type": "markdown",
   "metadata": {
    "_active": false,
    "_cell_guid": "7548315a-e1ec-dc3b-ca65-2cd54f3f86b8",
    "_uuid": "e28131cd74ab1c428db1ef6f3d3b6dc320f3f27a"
   },
   "source": [
    "# Loading data\n",
    "We will use the Titanic dataset from the Kaggle competition https://www.kaggle.com/c/titanic. The competition is simple: use machine learning to create a model that predicts which passengers survived the Titanic shipwreck."
   ]
  },
  {
   "cell_type": "code",
   "execution_count": 395,
   "metadata": {
    "_active": false,
    "_cell_guid": "4d2b99a7-9c9f-33ed-f783-6389040e8e8f",
    "_execution_state": "idle",
    "_uuid": "6248e7cbbd84dddafd0b49d4f16e1241e40d7737"
   },
   "outputs": [
    {
     "data": {
      "text/html": [
       "<div>\n",
       "<style scoped>\n",
       "    .dataframe tbody tr th:only-of-type {\n",
       "        vertical-align: middle;\n",
       "    }\n",
       "\n",
       "    .dataframe tbody tr th {\n",
       "        vertical-align: top;\n",
       "    }\n",
       "\n",
       "    .dataframe thead th {\n",
       "        text-align: right;\n",
       "    }\n",
       "</style>\n",
       "<table border=\"1\" class=\"dataframe\">\n",
       "  <thead>\n",
       "    <tr style=\"text-align: right;\">\n",
       "      <th></th>\n",
       "      <th>PassengerId</th>\n",
       "      <th>Survived</th>\n",
       "      <th>Pclass</th>\n",
       "      <th>Name</th>\n",
       "      <th>Sex</th>\n",
       "      <th>Age</th>\n",
       "      <th>SibSp</th>\n",
       "      <th>Parch</th>\n",
       "      <th>Ticket</th>\n",
       "      <th>Fare</th>\n",
       "      <th>Cabin</th>\n",
       "      <th>Embarked</th>\n",
       "    </tr>\n",
       "  </thead>\n",
       "  <tbody>\n",
       "    <tr>\n",
       "      <th>0</th>\n",
       "      <td>1</td>\n",
       "      <td>0</td>\n",
       "      <td>3</td>\n",
       "      <td>Braund, Mr. Owen Harris</td>\n",
       "      <td>male</td>\n",
       "      <td>22.0</td>\n",
       "      <td>1</td>\n",
       "      <td>0</td>\n",
       "      <td>A/5 21171</td>\n",
       "      <td>7.2500</td>\n",
       "      <td>NaN</td>\n",
       "      <td>S</td>\n",
       "    </tr>\n",
       "    <tr>\n",
       "      <th>1</th>\n",
       "      <td>2</td>\n",
       "      <td>1</td>\n",
       "      <td>1</td>\n",
       "      <td>Cumings, Mrs. John Bradley (Florence Briggs Th...</td>\n",
       "      <td>female</td>\n",
       "      <td>38.0</td>\n",
       "      <td>1</td>\n",
       "      <td>0</td>\n",
       "      <td>PC 17599</td>\n",
       "      <td>71.2833</td>\n",
       "      <td>C85</td>\n",
       "      <td>C</td>\n",
       "    </tr>\n",
       "    <tr>\n",
       "      <th>2</th>\n",
       "      <td>3</td>\n",
       "      <td>1</td>\n",
       "      <td>3</td>\n",
       "      <td>Heikkinen, Miss. Laina</td>\n",
       "      <td>female</td>\n",
       "      <td>26.0</td>\n",
       "      <td>0</td>\n",
       "      <td>0</td>\n",
       "      <td>STON/O2. 3101282</td>\n",
       "      <td>7.9250</td>\n",
       "      <td>NaN</td>\n",
       "      <td>S</td>\n",
       "    </tr>\n",
       "    <tr>\n",
       "      <th>3</th>\n",
       "      <td>4</td>\n",
       "      <td>1</td>\n",
       "      <td>1</td>\n",
       "      <td>Futrelle, Mrs. Jacques Heath (Lily May Peel)</td>\n",
       "      <td>female</td>\n",
       "      <td>35.0</td>\n",
       "      <td>1</td>\n",
       "      <td>0</td>\n",
       "      <td>113803</td>\n",
       "      <td>53.1000</td>\n",
       "      <td>C123</td>\n",
       "      <td>S</td>\n",
       "    </tr>\n",
       "    <tr>\n",
       "      <th>4</th>\n",
       "      <td>5</td>\n",
       "      <td>0</td>\n",
       "      <td>3</td>\n",
       "      <td>Allen, Mr. William Henry</td>\n",
       "      <td>male</td>\n",
       "      <td>35.0</td>\n",
       "      <td>0</td>\n",
       "      <td>0</td>\n",
       "      <td>373450</td>\n",
       "      <td>8.0500</td>\n",
       "      <td>NaN</td>\n",
       "      <td>S</td>\n",
       "    </tr>\n",
       "  </tbody>\n",
       "</table>\n",
       "</div>"
      ],
      "text/plain": [
       "   PassengerId  Survived  Pclass  \\\n",
       "0            1         0       3   \n",
       "1            2         1       1   \n",
       "2            3         1       3   \n",
       "3            4         1       1   \n",
       "4            5         0       3   \n",
       "\n",
       "                                                Name     Sex   Age  SibSp  \\\n",
       "0                            Braund, Mr. Owen Harris    male  22.0      1   \n",
       "1  Cumings, Mrs. John Bradley (Florence Briggs Th...  female  38.0      1   \n",
       "2                             Heikkinen, Miss. Laina  female  26.0      0   \n",
       "3       Futrelle, Mrs. Jacques Heath (Lily May Peel)  female  35.0      1   \n",
       "4                           Allen, Mr. William Henry    male  35.0      0   \n",
       "\n",
       "   Parch            Ticket     Fare Cabin Embarked  \n",
       "0      0         A/5 21171   7.2500   NaN        S  \n",
       "1      0          PC 17599  71.2833   C85        C  \n",
       "2      0  STON/O2. 3101282   7.9250   NaN        S  \n",
       "3      0            113803  53.1000  C123        S  \n",
       "4      0            373450   8.0500   NaN        S  "
      ]
     },
     "execution_count": 395,
     "metadata": {},
     "output_type": "execute_result"
    }
   ],
   "source": [
    "%matplotlib inline\n",
    "import numpy as np\n",
    "import pandas as pd\n",
    "import matplotlib.pyplot as plt\n",
    "from sklearn.preprocessing import StandardScaler, PolynomialFeatures\n",
    "from sklearn.model_selection import train_test_split, KFold, cross_val_score # to split the data\n",
    "from sklearn.metrics import accuracy_score, confusion_matrix, classification_report #To evaluate our model\n",
    "from sklearn.metrics import roc_curve\n",
    "import re as re\n",
    "from sklearn.model_selection import GridSearchCV\n",
    "\n",
    "\n",
    "from sklearn.linear_model import LogisticRegression\n",
    "\n",
    "\n",
    "train = pd.read_csv('../datasets/titanic.csv', header = 0, dtype={'Age': np.float64})\n",
    "original_test  = pd.read_csv('../datasets/titanic_test.csv' , header = 0, dtype={'Age': np.float64})\n",
    "test = original_test.copy(deep=True)\n",
    "full_data = [train, test]\n",
    "\n",
    "train.head(5)\n"
   ]
  },
  {
   "cell_type": "markdown",
   "metadata": {
    "_active": false,
    "_cell_guid": "9b3e809d-20a3-afed-1de3-41e1cd01a349",
    "_uuid": "154219a1262f2fd2d1334ea8254c08d55fc0b58b"
   },
   "source": [
    "## Preparing data for resolution\n",
    "\n",
    "In this notebook, we will not get into the details of feature engineering. We will make some classic processing on the features. There may be several feature optimization that could still be done, but it is not the purpose of this notebook.\n",
    "\n",
    "### Family size categories\n",
    "Let's create LargeFamily (2 classes: 1 to 4, 5 and up)"
   ]
  },
  {
   "cell_type": "code",
   "execution_count": 396,
   "metadata": {
    "_active": false,
    "_cell_guid": "a4d69b2a-30dd-d233-b497-856923e4fab8",
    "_execution_state": "idle",
    "_uuid": "1c240ea91765375800d98740dc0f1d043c5a417e"
   },
   "outputs": [],
   "source": [
    "for dataset in full_data:\n",
    "    dataset['FamilySize'] = dataset['SibSp'] + dataset['Parch'] + 1\n",
    "    dataset['LargeFamily'] = dataset['FamilySize'].apply(lambda r: 0 if r<=4 else 1)"
   ]
  },
  {
   "cell_type": "markdown",
   "metadata": {
    "_active": false,
    "_cell_guid": "008b965d-1470-4e85-7ad5-76fb70273d29",
    "_uuid": "de6e66fe7448c9b1138a153d223fe253f5e96bcc"
   },
   "source": [
    "\n",
    "\n",
    "## Names ##\n",
    "inside this feature we can find the title of people."
   ]
  },
  {
   "cell_type": "code",
   "execution_count": 397,
   "metadata": {
    "_active": false,
    "_cell_guid": "c4f5efda-4c05-40ca-a3fb-b35a706f0e1d",
    "_execution_state": "idle",
    "_uuid": "91ecdd580c79cd07ea93284e0c415a6cc6480b25"
   },
   "outputs": [
    {
     "name": "stdout",
     "output_type": "stream",
     "text": [
      "Sex       female  male\n",
      "Title                 \n",
      "Capt           0     1\n",
      "Col            0     2\n",
      "Countess       1     0\n",
      "Don            0     1\n",
      "Dr             1     6\n",
      "Jonkheer       0     1\n",
      "Lady           1     0\n",
      "Major          0     2\n",
      "Master         0    40\n",
      "Miss         182     0\n",
      "Mlle           2     0\n",
      "Mme            1     0\n",
      "Mr             0   517\n",
      "Mrs          125     0\n",
      "Ms             1     0\n",
      "Rev            0     6\n",
      "Sir            0     1\n"
     ]
    }
   ],
   "source": [
    "def get_title(name):\n",
    "\ttitle_search = re.search(' ([A-Za-z]+)\\.', name)\n",
    "\t# If the title exists, extract and return it.\n",
    "\tif title_search:\n",
    "\t\treturn title_search.group(1)\n",
    "\treturn \"\"\n",
    "\n",
    "for dataset in full_data:\n",
    "    dataset['Title'] = dataset['Name'].apply(get_title)\n",
    "\n",
    "print(pd.crosstab(train['Title'], train['Sex']))"
   ]
  },
  {
   "cell_type": "markdown",
   "metadata": {
    "_active": false,
    "_cell_guid": "4ba8d40c-caa4-7eb6-f170-a733d0d69926",
    "_uuid": "cad68d8c5e9f198e3bd34ce4a692f3518b6f03a6"
   },
   "source": [
    " so we have titles. let's categorize it and check the title impact on survival rate."
   ]
  },
  {
   "cell_type": "code",
   "execution_count": 398,
   "metadata": {
    "_active": false,
    "_cell_guid": "97457988-dffd-37a7-67f2-ea12678c77bb",
    "_execution_state": "idle",
    "_uuid": "76f4d06861708f56c8ecc7c5d8dd8b515fa9d319"
   },
   "outputs": [
    {
     "name": "stdout",
     "output_type": "stream",
     "text": [
      "    Title  Survived\n",
      "0  Master  0.575000\n",
      "1    Miss  0.702703\n",
      "2      Mr  0.156673\n",
      "3     Mrs  0.793651\n",
      "4    Rare  0.347826\n"
     ]
    }
   ],
   "source": [
    "for dataset in full_data:\n",
    "    dataset['Title'] = dataset['Title'].replace(['Lady', 'Countess','Capt', 'Col',\\\n",
    " \t'Don', 'Dr', 'Major', 'Rev', 'Sir', 'Jonkheer', 'Dona'], 'Rare')\n",
    "\n",
    "    dataset['Title'] = dataset['Title'].replace('Mlle', 'Miss')\n",
    "    dataset['Title'] = dataset['Title'].replace('Ms', 'Miss')\n",
    "    dataset['Title'] = dataset['Title'].replace('Mme', 'Mrs')\n",
    "\n",
    "print (train[['Title', 'Survived']].groupby(['Title'], as_index=False).mean())"
   ]
  },
  {
   "cell_type": "markdown",
   "metadata": {
    "_active": false,
    "_cell_guid": "4a22679a-56b7-6263-74a1-2c0e40451f14",
    "_uuid": "68713f03b9528a3b8e90758fb8929637e5eee0fe"
   },
   "source": [
    "# Other data\n",
    "Now let's clean all other fields and map our features into numerical values."
   ]
  },
  {
   "cell_type": "code",
   "execution_count": 399,
   "metadata": {
    "_active": false,
    "_cell_guid": "c377cc55-0060-96f2-452c-1f1da6f33390",
    "_execution_state": "idle",
    "_uuid": "33094c6d14667ec12e8bfc6da337fcd9d3deb0d2"
   },
   "outputs": [
    {
     "name": "stdout",
     "output_type": "stream",
     "text": [
      "   Survived  Pclass  Sex  Age  Fare  Embarked  LargeFamily  Title\n",
      "0         0       3    1    1     0         0            0      1\n",
      "1         1       1    0    2     3         1            0      3\n",
      "2         1       3    0    1     1         0            0      2\n",
      "3         1       1    0    2     3         0            0      3\n",
      "4         0       3    1    2     1         0            0      1\n",
      "5         0       3    1    1     1         2            0      1\n",
      "6         0       1    1    3     3         0            0      1\n",
      "7         0       3    1    0     2         0            1      4\n",
      "8         1       3    0    1     1         0            0      3\n",
      "9         1       2    0    0     2         1            0      3\n"
     ]
    },
    {
     "data": {
      "image/png": "[encoded data removed]",
      "text/plain": [
       "<Figure size 432x288 with 1 Axes>"
      ]
     },
     "metadata": {
      "needs_background": "light"
     },
     "output_type": "display_data"
    }
   ],
   "source": [
    "np.random.seed(42)\n",
    "for dataset in full_data:   \n",
    "    # Fill missing values in Embarked with most frequent port 'S'\n",
    "    dataset['Embarked'] = dataset['Embarked'].fillna('S')\n",
    "    \n",
    "    # Fill missing values in Fare with median\n",
    "    dataset['Fare'] = dataset['Fare'].fillna(train['Fare'].median())\n",
    "\n",
    "    # Fill missing values in age with random data based on mean and standard variation\n",
    "    age_avg \t   = dataset['Age'].mean()\n",
    "    age_std \t   = dataset['Age'].std()\n",
    "    age_null_count = dataset['Age'].isnull().sum()\n",
    "    \n",
    "    age_null_random_list = np.random.randint(age_avg - age_std, age_avg + age_std, size=age_null_count, )\n",
    "    dataset.loc[np.isnan(dataset['Age']), 'Age'] = age_null_random_list\n",
    "    dataset['Age'] = dataset['Age'].astype(int)\n",
    "        \n",
    "    # Mapping Sex\n",
    "    dataset['Sex'] = dataset['Sex'].map( {'female': 0, 'male': 1} ).astype(int)\n",
    "    \n",
    "    # Mapping titles\n",
    "    title_mapping = {\"Mr\": 1, \"Miss\": 2, \"Mrs\": 3, \"Master\": 4, \"Rare\": 5}\n",
    "    dataset['Title'] = dataset['Title'].map(title_mapping)\n",
    "    dataset['Title'] = dataset['Title'].fillna(0)\n",
    "    \n",
    "    # Mapping Embarked\n",
    "    dataset['Embarked'] = dataset['Embarked'].map( {'S': 0, 'C': 1, 'Q': 2} ).astype(int)\n",
    "    \n",
    "    # Mapping Fare\n",
    "    dataset.loc[ dataset['Fare'] <= 7.91, 'Fare'] \t\t\t\t\t\t        = 0\n",
    "    dataset.loc[(dataset['Fare'] > 7.91) & (dataset['Fare'] <= 14.454), 'Fare'] = 1\n",
    "    dataset.loc[(dataset['Fare'] > 14.454) & (dataset['Fare'] <= 31), 'Fare']   = 2\n",
    "    dataset.loc[ dataset['Fare'] > 31, 'Fare'] \t\t\t\t\t\t\t        = 3\n",
    "    dataset['Fare'] = dataset['Fare'].astype(int)\n",
    "    \n",
    "    # Mapping Age\n",
    "    dataset.loc[ dataset['Age'] <= 16, 'Age'] \t\t\t\t\t       = 0\n",
    "    dataset.loc[(dataset['Age'] > 16) & (dataset['Age'] <= 32), 'Age'] = 1\n",
    "    dataset.loc[(dataset['Age'] > 32) & (dataset['Age'] <= 48), 'Age'] = 2\n",
    "    dataset.loc[(dataset['Age'] > 48) & (dataset['Age'] <= 64), 'Age'] = 3\n",
    "    dataset.loc[ dataset['Age'] > 64, 'Age']                           = 4\n",
    "    \n",
    "# Feature Selection\n",
    "drop_elements = ['PassengerId', 'Name', 'Ticket', 'Cabin', 'SibSp',\\\n",
    "                 'Parch', 'FamilySize']\n",
    "train = train.drop(drop_elements, axis = 1)\n",
    "\n",
    "test  = test.drop(drop_elements, axis = 1)\n",
    "\n",
    "print (train.head(10))\n",
    "plt.hist(train.values[0::, 0]);#class balance"
   ]
  },
  {
   "cell_type": "markdown",
   "metadata": {
    "_active": false,
    "_cell_guid": "cffa50e5-cb50-abf7-078c-5f948dc4eff9",
    "_uuid": "df7bbe9cbd124c3cd3feb6978ab370e92a6f23a3"
   },
   "source": [
    "Good! now we have a clean dataset."
   ]
  },
  {
   "cell_type": "markdown",
   "metadata": {
    "_active": false,
    "_cell_guid": "dc991392-2a86-a9f8-1bc0-5a877d324e77",
    "_uuid": "b9ca3cf58cb7b7f4896e19c6c141f936e7f2ab22"
   },
   "source": [
    "##  Logistic polynomial regression ##\n",
    "\n",
    "We consider a logistic polynomial regression with up to degree 2 polynomial features.\n",
    "\n",
    " - C=1/0.0001: the regularization term\n",
    " - d=2: the degree of the polynomial combination of features\n",
    " \n",
    " these parameters have been selected via grid-search cross-validation"
   ]
  },
  {
   "cell_type": "code",
   "execution_count": 401,
   "metadata": {},
   "outputs": [
    {
     "name": "stdout",
     "output_type": "stream",
     "text": [
      "Testing accuracy: \n",
      "0.8283582089552238\n",
      "\n",
      "\n",
      "[[151  17]\n",
      " [ 29  71]]\n"
     ]
    }
   ],
   "source": [
    "X = train.values[0::, 1::]\n",
    "y = train.values[0::, 0]\n",
    "\n",
    "# Spliting X and y into train and test version\n",
    "X_train, X_test, y_train, y_test = train_test_split(X, y, test_size = 0.3, random_state=0       )\n",
    "\n",
    "\n",
    "# Create polynomial features\n",
    "poly = PolynomialFeatures(3)\n",
    "X_train_poly = poly.fit_transform(X_train)\n",
    "X_test_poly  = poly.fit_transform(X_test)\n",
    "\n",
    "#Scaling\n",
    "scaler = StandardScaler()\n",
    "X_train_n=X_train_poly.copy()\n",
    "X_test_n=X_train_poly.copy()\n",
    "scaler.fit(X_train_poly)\n",
    "X_train_n=scaler.transform(X_train_poly)\n",
    "X_test_n=scaler.transform(X_test_poly)\n",
    "\n",
    "regurC=1000#reguralisation constant\n",
    "clf = LogisticRegression(max_iter=3000,C=regurC, solver='lbfgs')        \n",
    "clf.fit(X_train_n, y_train)\n",
    "y_pred_LR = clf.predict(X_test_n)\n",
    "y_pred_prob_LR = clf.predict_proba(X_test_n)[:,1]\n",
    "print(\"Testing accuracy: \")\n",
    "print(accuracy_score(y_test,y_pred_LR))\n",
    "print(\"\\n\")\n",
    "print(confusion_matrix(y_test, y_pred_LR))"
   ]
  },
  {
   "cell_type": "markdown",
   "metadata": {},
   "source": [
    "We will now compute the distribution of the probability of class 1 for the instances in the test set that where wrongly classified\n",
    "and for the instances that were correctly classified."
   ]
  },
  {
   "cell_type": "code",
   "execution_count": 402,
   "metadata": {},
   "outputs": [
    {
     "data": {
      "image/png": "[encoded data removed]",
      "text/plain": [
       "<Figure size 432x288 with 1 Axes>"
      ]
     },
     "metadata": {
      "needs_background": "light"
     },
     "output_type": "display_data"
    },
    {
     "data": {
      "image/png": "[encoded data removed]",
      "text/plain": [
       "<Figure size 432x288 with 1 Axes>"
      ]
     },
     "metadata": {
      "needs_background": "light"
     },
     "output_type": "display_data"
    }
   ],
   "source": [
    "threshold=0.5\n",
    "y_pred_LR=np.where(y_pred_prob_LR>threshold,1,0)\n",
    "plt.figure()\n",
    "ind_decision_class1=np.where(y_test!=y_pred_LR)[0]\n",
    "plt.hist(y_pred_prob_LR[ind_decision_class1],bins=12);\n",
    "plt.title(\"distribution class 1 probability for wrong predictions\")\n",
    "plt.xlabel(\"class 1 probability\")\n",
    "\n",
    "plt.figure()\n",
    "plt.title(\"distribution class 1 probability for right predictions\")\n",
    "plt.xlabel(\"class 1 probability\")\n",
    "ind_decision_class1=np.where(y_test==y_pred_LR)[0]\n",
    "plt.hist(y_pred_prob_LR[ind_decision_class1],bins=12);"
   ]
  },
  {
   "cell_type": "markdown",
   "metadata": {},
   "source": [
    "From the first plot, you can notice that logistic regression makes quite a lot of mistakes in the instances that were\n",
    "classified with high (close to 1) or low (close to 0) probability.\n",
    "Instead we would have expected to see the maximum number of mistakes in the instances that were classified with probability close to 0.5. **This intuition is wrong. In a classification problem, the logistic classifier gives you a probability value for each class, but this is not the same as uncertainty we compute in probabilistic Machine Learning. This probability is the probability that an input is a given class relative to the other classes. Because the probability is relative to the other classes, it does not help explain the model's overall confidence on its own predictions.**\n",
    "\n",
    "We need to compute the posterior to have the full picture."
   ]
  },
  {
   "cell_type": "code",
   "execution_count": 403,
   "metadata": {},
   "outputs": [
    {
     "name": "stderr",
     "output_type": "stream",
     "text": [
      "logp = -736.43, ||grad|| = 0.047296: 100%|██████████| 2179/2179 [00:01<00:00, 1827.59it/s] \n"
     ]
    }
   ],
   "source": [
    "import pymc3 as pm\n",
    "#be sure that the\n",
    "with pm.Model() as logistic_model:     \n",
    "    alpha= pm.Normal('alpha', 0.0, sd=100000)\n",
    "    beta = pm.Normal('beta', 0.0, sd=np.sqrt(regurC), shape=(X_train_n.shape[1],)) #\n",
    "    phi = pm.Deterministic('phi', pm.math.invlogit(alpha+pm.math.dot(X_train_n, beta)))#logistic function \n",
    "    #tt.printing.Print('alpha_ls')(phi)\n",
    "    likelihood = pm.Bernoulli('likelihood', phi, observed=y_train)\n",
    "\n",
    "#We COMPUTE THE MAP here\n",
    "with logistic_model:\n",
    "    est_theta=pm.find_MAP(maxeval=15000, method=\"l-bfgs-b\")"
   ]
  },
  {
   "cell_type": "code",
   "execution_count": 404,
   "metadata": {},
   "outputs": [
    {
     "data": {
      "text/plain": [
       "(623, 120)"
      ]
     },
     "execution_count": 404,
     "metadata": {},
     "output_type": "execute_result"
    }
   ],
   "source": [
    "X_train_n.shape"
   ]
  },
  {
   "cell_type": "markdown",
   "metadata": {},
   "source": [
    "## Compare sklearn vs MAP\n",
    "You can notice that the slopes and intercepts returned by `sklearn` coincide with MAP estimate computed by PyMC3 (apart from numerical differences)"
   ]
  },
  {
   "cell_type": "code",
   "execution_count": 405,
   "metadata": {},
   "outputs": [
    {
     "name": "stdout",
     "output_type": "stream",
     "text": [
      "Pymc3 MAP\n",
      "[  0.           8.77427565  -5.03934521   7.08725506  20.90655439\n",
      " -15.06694672   0.20364833  -2.13020876  -1.34597425  -4.3815136\n",
      "  -7.18705473 -25.36785974  14.35606761  -1.17501389   9.5938773\n",
      "  -5.03934521  12.14222584   3.61022121   6.18563452  -1.96359046\n",
      "   8.06555399  -9.87424014  -9.5624732   -1.56596209  -0.38427125\n",
      "   3.34546087 -24.71761896  15.0108335    0.37994068   9.37852988\n",
      "  -2.17963073  -0.04245291   5.39753996   0.20364833   0.97707674\n",
      "  -5.86325388  -9.38836711  12.95526686   6.91352146   7.75250271\n",
      "  -5.48713369  -2.06144697   0.93412351  -4.3815136  -13.89763077\n",
      "  -1.79848603  -1.45251491  -1.98148368   7.70481099   8.62432813\n",
      "   6.23769465  -2.37349006  -1.97581615 -14.02432306   9.99089464\n",
      "  -1.25680745  -0.69325524  -0.72894888   6.75868094  -0.04245291\n",
      "  -6.21042722  -1.17501389  -0.37074237   1.1550525   -5.03934521\n",
      "  12.14222584   3.61022121   6.18563452  -1.96359046   8.06555399\n",
      "  -8.92412496  -8.51865312   0.80064651  -0.09596061  -2.12439211\n",
      "  -5.37506285  -4.999512    -2.16361852  11.06416243  -8.98110674\n",
      "  -0.00243506  -4.35521065  -1.96359046  -2.32689479 -20.28678912\n",
      "   4.83094524   7.6965166   -2.51950651   0.36097118  -9.74241747\n",
      "   3.53869127   0.91356941  -1.71242645  -7.55793456   5.57485782\n",
      "  -0.08048996   1.33768927  -0.38427125   2.28964291  22.67598127\n",
      "  11.12140876  -0.48177933   0.50856658  -3.67601094  -1.34149986\n",
      "  -0.04245291 -13.38918912   0.37994068   0.76364991   0.04506092\n",
      "   5.17408507  -0.04245291 -12.28647305  -0.04245291  -0.03429579\n",
      "  15.19196497   0.20364833   0.97707674   0.9881062   -8.30754462]\n",
      "-1.8841197682632593 \n",
      "\n",
      "Sklearn reguralised logistic regression\n",
      "[  0.           8.96411909  -5.05690247   7.22106706  21.24061693\n",
      " -15.21942752   0.19416283  -2.11556235  -1.30223543  -4.43432367\n",
      "  -7.2725101  -25.74000198  14.22680747  -1.16333408   9.54431153\n",
      "  -5.05690247  12.07387862   3.4799208    6.25626712  -1.94163408\n",
      "   8.35889337  -9.79660559  -9.63830021  -1.55445609  -0.36261097\n",
      "   3.14515924 -24.86938034  15.04147477   0.38624386   9.375497\n",
      "  -2.20849043  -0.04606429   5.69585994   0.19416283   0.9489579\n",
      "  -5.78816589  -9.46134838  12.97488257   6.91417041   7.8320896\n",
      "  -5.39706749  -2.03883443   0.90733079  -4.43432367 -13.82920795\n",
      "  -1.64324662  -1.50529644  -1.97183847   7.52429484   8.61059023\n",
      "   6.24372168  -2.35195875  -1.97202529 -13.9560808    9.99357782\n",
      "  -1.21249223  -0.66661092  -0.48142291   6.82304671  -0.04606429\n",
      "  -6.30248392  -1.16333408  -0.37800542   1.04574868  -5.05690247\n",
      "  12.07387862   3.4799208    6.25626712  -1.94163408   8.35889337\n",
      "  -8.93801193  -8.46466825   0.78719795  -0.04409085  -2.07070769\n",
      "  -5.26549122  -5.05016718  -2.14514022  11.09224989  -9.03772386\n",
      "  -0.00005818  -4.31973337  -1.94163408  -2.31907085 -20.75473207\n",
      "   4.81902296   7.67870179  -2.51795003   0.36896398  -9.78839121\n",
      "   3.52964115   0.92095557  -1.75842018  -7.46355286   5.57263299\n",
      "  -0.09180552   1.29914229  -0.36261097   2.30183207  22.75833031\n",
      "  11.09192005  -0.45000384   0.52702943  -3.49749208  -1.35373911\n",
      "  -0.04606429 -13.50378518   0.38624386   0.74517719  -0.35056598\n",
      "   5.21606787  -0.04606429 -12.34520552  -0.04606429  -0.03661998\n",
      "  15.16804145   0.19416283   0.9489579    0.95701512  -8.12901013]\n",
      "-1.8794074893273183\n"
     ]
    }
   ],
   "source": [
    "np.set_printoptions(suppress=True)\n",
    "print(\"Pymc3 MAP\")\n",
    "print(est_theta['beta'])\n",
    "print(est_theta['alpha'],\"\\n\")\n",
    "print(\"Sklearn reguralised logistic regression\")\n",
    "print(clf.coef_[0,:])\n",
    "print(clf.intercept_[0])"
   ]
  },
  {
   "cell_type": "markdown",
   "metadata": {},
   "source": [
    "We now compute the samples from the full posterior using advi approximation to speed-up the computation."
   ]
  },
  {
   "cell_type": "code",
   "execution_count": 406,
   "metadata": {},
   "outputs": [
    {
     "name": "stderr",
     "output_type": "stream",
     "text": [
      "Average Loss = 847.14: 100%|██████████| 100000/100000 [00:38<00:00, 2593.49it/s]\n",
      "Finished [100%]: Average Loss = 847.12\n"
     ]
    },
    {
     "data": {
      "image/png": "[encoded data removed]",
      "text/plain": [
       "<Figure size 432x288 with 1 Axes>"
      ]
     },
     "metadata": {
      "needs_background": "light"
     },
     "output_type": "display_data"
    }
   ],
   "source": [
    "with logistic_model:\n",
    "    approximation = pm.fit(100000,method='advi')#50000 are the number of iterations of the algorithms\n",
    "    \n",
    "plt.plot(approximation.hist);\n",
    "posterior = approximation.sample(5000)#we sample 500000 samples from the posterior\n",
    "\n",
    "    "
   ]
  },
  {
   "cell_type": "markdown",
   "metadata": {},
   "source": [
    "You can notice below how the posterior mean is totally different from the MAP (and sklearn) estimate. In high dimensions\n",
    "(X has 36 columns), the posterior mean can be very far from the MAP estimate. The posterior mean changes depending \n",
    "on the shape of the distribution. In logistic classification, the posterior is not symmetric and, therefore, the posterior mean is very far from its maximum (MAP estimate)."
   ]
  },
  {
   "cell_type": "code",
   "execution_count": 407,
   "metadata": {},
   "outputs": [
    {
     "name": "stdout",
     "output_type": "stream",
     "text": [
      "Pymc3 posterior mean of the parameters\n",
      "[ 0.24888565 -1.74120484 -1.59212159  0.73883247 -1.01289413  0.19863995\n",
      "  0.13517177 -0.21238706 -1.14149109  0.74027798 -0.46948217 -1.11127541\n",
      " -0.12232387 -0.63674308 -0.20006831 -1.585946    0.26064764  0.38984168\n",
      "  0.1413274  -1.32944876 -0.37917961  0.10762054  0.15926311  0.39093136\n",
      " -0.02484141 -0.24036802 -1.13782218  0.33996243  0.23945268  0.38889308\n",
      " -0.05827716 -1.94791361  0.09542778  0.15084335  0.33701488 -0.40947933\n",
      " -0.65273147  1.95836209 -0.21189566  1.33049056  1.02027658 -1.03600707\n",
      "  1.07408769  0.74412517  0.03190252  0.11568919 -0.14684498 -1.05832203\n",
      "  0.56448785 -0.13509143 -0.35201508  0.41738845 -0.86130234 -0.28009228\n",
      " -0.38492221 -0.25218254 -0.41159459  0.63937611  0.13856491 -1.98163431\n",
      "  0.27014026 -0.6222297  -0.47365047  0.30452074 -1.5897788   0.26041437\n",
      "  0.39077876  0.13910089 -1.36693534 -0.38082333  0.15662884  0.4606413\n",
      " -0.0159471  -0.6774988  -1.19039693 -0.00027496  0.05179983 -1.35188729\n",
      "  1.32791081 -1.13164681  0.97121104 -0.17897995 -1.35022151 -1.06350365\n",
      "  0.48743902 -0.82837046  0.00844808 -1.25948733  0.41384108  0.31968425\n",
      " -0.31662015  0.34177927 -0.53965218  0.41568099  0.30574782 -1.25343634\n",
      "  0.41349972 -0.02376951  0.99712279  0.19064419  0.54548956  0.24513388\n",
      "  0.333075    0.32950854 -0.42922703 -1.94426645 -0.03616286  0.23121689\n",
      "  0.31659149  0.90353162 -0.21446584 -1.95299782 -0.80053671 -1.90063172\n",
      " -1.90339195 -0.23213801  0.14023795  0.3272488   0.36451409 -0.80480895]\n",
      "-2.8388153455891136\n",
      "Sklearn reguralised logistic regression\n",
      "[  0.           8.96411909  -5.05690247   7.22106706  21.24061693\n",
      " -15.21942752   0.19416283  -2.11556235  -1.30223543  -4.43432367\n",
      "  -7.2725101  -25.74000198  14.22680747  -1.16333408   9.54431153\n",
      "  -5.05690247  12.07387862   3.4799208    6.25626712  -1.94163408\n",
      "   8.35889337  -9.79660559  -9.63830021  -1.55445609  -0.36261097\n",
      "   3.14515924 -24.86938034  15.04147477   0.38624386   9.375497\n",
      "  -2.20849043  -0.04606429   5.69585994   0.19416283   0.9489579\n",
      "  -5.78816589  -9.46134838  12.97488257   6.91417041   7.8320896\n",
      "  -5.39706749  -2.03883443   0.90733079  -4.43432367 -13.82920795\n",
      "  -1.64324662  -1.50529644  -1.97183847   7.52429484   8.61059023\n",
      "   6.24372168  -2.35195875  -1.97202529 -13.9560808    9.99357782\n",
      "  -1.21249223  -0.66661092  -0.48142291   6.82304671  -0.04606429\n",
      "  -6.30248392  -1.16333408  -0.37800542   1.04574868  -5.05690247\n",
      "  12.07387862   3.4799208    6.25626712  -1.94163408   8.35889337\n",
      "  -8.93801193  -8.46466825   0.78719795  -0.04409085  -2.07070769\n",
      "  -5.26549122  -5.05016718  -2.14514022  11.09224989  -9.03772386\n",
      "  -0.00005818  -4.31973337  -1.94163408  -2.31907085 -20.75473207\n",
      "   4.81902296   7.67870179  -2.51795003   0.36896398  -9.78839121\n",
      "   3.52964115   0.92095557  -1.75842018  -7.46355286   5.57263299\n",
      "  -0.09180552   1.29914229  -0.36261097   2.30183207  22.75833031\n",
      "  11.09192005  -0.45000384   0.52702943  -3.49749208  -1.35373911\n",
      "  -0.04606429 -13.50378518   0.38624386   0.74517719  -0.35056598\n",
      "   5.21606787  -0.04606429 -12.34520552  -0.04606429  -0.03661998\n",
      "  15.16804145   0.19416283   0.9489579    0.95701512  -8.12901013]\n",
      "-1.8794074893273183\n"
     ]
    }
   ],
   "source": [
    "print(\"Pymc3 posterior mean of the parameters\")\n",
    "print(np.mean(posterior['beta'],axis=0))\n",
    "print(np.mean(posterior['alpha']))\n",
    "print(\"Sklearn reguralised logistic regression\")\n",
    "print(clf.coef_[0,:])\n",
    "print(clf.intercept_[0])"
   ]
  },
  {
   "cell_type": "markdown",
   "metadata": {},
   "source": [
    "We will see now that although the MAP and posterior mean are different, the accuracy of the two models is similar. However, we do not only care about accuracy, but we want to know the reliability of our predictions. "
   ]
  },
  {
   "cell_type": "code",
   "execution_count": 408,
   "metadata": {},
   "outputs": [
    {
     "name": "stdout",
     "output_type": "stream",
     "text": [
      "Testing accuracy: \n",
      "0.8134328358208955\n"
     ]
    }
   ],
   "source": [
    "#sampled probability of class 1\n",
    "y_pred_proba_Bayes_samples = 1/(1+np.exp(-posterior['alpha'].T-np.dot(X_test_n,posterior['beta'].T)))#proba class 1\n",
    "#mean of the samples probablities\n",
    "y_pred_proba_Bayes=np.mean(y_pred_proba_Bayes_samples,axis=1)\n",
    "threshold=0.5\n",
    "#class predicted\n",
    "y_pred_B=np.where(y_pred_proba_Bayes>threshold,1,0)\n",
    "print(\"Testing accuracy: \")\n",
    "print(accuracy_score(y_test,y_pred_B))"
   ]
  },
  {
   "cell_type": "markdown",
   "metadata": {},
   "source": [
    "We should also check the uncertainty provided by the posterior. Each sampled probability `y_pred_proba_Bayes_samples` determines a prediction, class 0 and class 1. A way\n",
    "to evaluate the uncertainty on the prediction for a certain instance in the test set is to compute\n",
    "the standard deviation of these different predictions.\n",
    "If the standard deviation is small, then it means that the decision was always class 0 (or class 1), while if the standard deviation  is high it means that the probabilistic classifier is undecided about how to classify that instance. "
   ]
  },
  {
   "cell_type": "code",
   "execution_count": 409,
   "metadata": {},
   "outputs": [],
   "source": [
    "y_pred_samples=np.where(y_pred_proba_Bayes_samples>threshold,1,0)\n",
    "uncertainty=np.std(y_pred_samples,axis=1)"
   ]
  },
  {
   "cell_type": "markdown",
   "metadata": {},
   "source": [
    "We can plot this uncertainty against the mean predicted probability as follows:"
   ]
  },
  {
   "cell_type": "code",
   "execution_count": 414,
   "metadata": {},
   "outputs": [
    {
     "data": {
      "text/plain": [
       "Text(0, 0.5, 'STD of the predicted class')"
      ]
     },
     "execution_count": 414,
     "metadata": {},
     "output_type": "execute_result"
    },
    {
     "data": {
      "image/png": "[encoded data removed]",
      "text/plain": [
       "<Figure size 432x288 with 1 Axes>"
      ]
     },
     "metadata": {
      "needs_background": "light"
     },
     "output_type": "display_data"
    }
   ],
   "source": [
    "plt.scatter(y_pred_proba_Bayes,uncertainty)\n",
    "ind_wrong=np.where(y_test!=y_pred_B)[0]\n",
    "plt.xlabel(\"mean probability class 1\", fontsize=16)\n",
    "plt.ylabel(\"STD of the predicted class\", fontsize=16)"
   ]
  },
  {
   "cell_type": "markdown",
   "metadata": {},
   "source": [
    "This scatter plot is what we should expect, the Bayesian logistic classifier is more uncertainty\n",
    "in the instances that have posterior mean close to $0.5$. Instead what about the \n",
    "MAP estimated returned by `sklearn`"
   ]
  },
  {
   "cell_type": "code",
   "execution_count": 411,
   "metadata": {},
   "outputs": [
    {
     "data": {
      "text/plain": [
       "Text(0, 0.5, 'STD of the predicted class')"
      ]
     },
     "execution_count": 411,
     "metadata": {},
     "output_type": "execute_result"
    },
    {
     "data": {
      "image/png": "[encoded data removed]",
      "text/plain": [
       "<Figure size 432x288 with 1 Axes>"
      ]
     },
     "metadata": {
      "needs_background": "light"
     },
     "output_type": "display_data"
    }
   ],
   "source": [
    "plt.scatter(y_pred_prob_LR,uncertainty)\n",
    "plt.xlabel(\"MAP probability class 1\", fontsize=16)\n",
    "plt.ylabel(\"STD of the predicted class\", fontsize=16)"
   ]
  },
  {
   "cell_type": "markdown",
   "metadata": {},
   "source": [
    "The above plot shows that the probability returned by the MAP estimate can be very high even for instances that have high uncertainty.  This shows that we should not use the probability\n",
    "computed by the logistic classifier as a measure of uncertainty: they can be close to $0$ or $1$ but those instances  could be very uncertain. The posterior mean is a better point estimate of the MAP (and so `sklearn` point estimate) because it accounts for the uncertainty."
   ]
  },
  {
   "cell_type": "code",
   "execution_count": 418,
   "metadata": {},
   "outputs": [
    {
     "data": {
      "text/plain": [
       "Text(0, 0.5, 'STD of the predicted class')"
      ]
     },
     "execution_count": 418,
     "metadata": {},
     "output_type": "execute_result"
    },
    {
     "data": {
      "image/png": "[encoded data removed]",
      "text/plain": [
       "<Figure size 864x360 with 2 Axes>"
      ]
     },
     "metadata": {
      "needs_background": "light"
     },
     "output_type": "display_data"
    }
   ],
   "source": [
    "plt.figure(figsize=(12,5))\n",
    "plt.subplot(121)\n",
    "plt.scatter(y_pred_proba_Bayes,uncertainty)\n",
    "ind_wrong=np.where(y_test!=y_pred_B)[0]\n",
    "plt.scatter(y_pred_proba_Bayes[ind_wrong],uncertainty[ind_wrong],color='r')\n",
    "plt.xlabel(\"mean probability class 1\", fontsize=16)\n",
    "plt.ylabel(\"STD of the predicted class\", fontsize=16)\n",
    "plt.subplot(122)\n",
    "plt.scatter(y_pred_prob_LR,uncertainty)\n",
    "ind_wrong=np.where(y_test!=y_pred_LR)[0]\n",
    "plt.scatter(y_pred_prob_LR[ind_wrong],uncertainty[ind_wrong],color='r')\n",
    "plt.xlabel(\"MAP probability class 1\", fontsize=16)\n",
    "plt.ylabel(\"STD of the predicted class\", fontsize=16)"
   ]
  },
  {
   "cell_type": "markdown",
   "metadata": {},
   "source": [
    "In the above plots, we have reported the previous two plots, but we have colored the wrongly classified instances by the two models in red. From the left plot, you can see that the Bayesian classifier makes the majority of the mistakes in instances that were estimated to have high uncertainty and posterior mean close to $0.5$, while the MAP-based classifier (Sklearn) makes several mistakes in instances that have probability closer to $0$ or $1$. "
   ]
  }
 ],
 "metadata": {
  "kernelspec": {
   "display_name": "Python 3",
   "language": "python",
   "name": "python3"
  },
  "language_info": {
   "codemirror_mode": {
    "name": "ipython",
    "version": 3
   },
   "file_extension": ".py",
   "mimetype": "text/x-python",
   "name": "python",
   "nbconvert_exporter": "python",
   "pygments_lexer": "ipython3",
   "version": "3.6.9"
  },
  "toc": {
   "base_numbering": 1,
   "nav_menu": {},
   "number_sections": true,
   "sideBar": true,
   "skip_h1_title": false,
   "title_cell": "Table of Contents",
   "title_sidebar": "Contents",
   "toc_cell": false,
   "toc_position": {},
   "toc_section_display": true,
   "toc_window_display": false
  }
 },
 "nbformat": 4,
 "nbformat_minor": 1
}
