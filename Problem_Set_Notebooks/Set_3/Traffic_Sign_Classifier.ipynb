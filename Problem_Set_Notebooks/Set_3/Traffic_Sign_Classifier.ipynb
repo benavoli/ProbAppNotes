{
 "cells": [
  {
   "cell_type": "markdown",
   "metadata": {},
   "source": [
    "## Build a Traffic Sign Recognition Classifier\n",
    "\n",
    "\n",
    "We will use a multinomial logistic regression. We extend the example we saw in the Challenger Disaster to deal with more than two classes.\n",
    "\n",
    "Let us assume we have k classes. Specifically, in multinomial logistic regression, we have a different linear model\n",
    "$$\n",
    "\\alpha_j+\\beta_j^T x\n",
    "$$\n",
    "for each class $j=1,\\dots,k$.\n",
    "\n",
    "The likelihood is then\n",
    "$$\n",
    "p(y=j | \\theta, x) = \\frac{\\exp(\\alpha_j+\\beta_{j}^T x)}{\\sum_{c=1}^k\\exp(\\alpha_c+\\beta_c^Tx)}.\n",
    "$$\n",
    "with $\\theta=[\\alpha_1,\\beta_1,\\alpha_2,\\beta_{2},\\alpha_3,\\beta_{3},\\dots,\\alpha_k,\\beta_{k}]$ is the vector of all parameters.\n",
    "\n",
    "Let's consider the case k=2 as an example then\n",
    "\n",
    "$$\n",
    "p(y=0 | \\theta, x) = \\frac{\\exp(\\alpha_1+\\beta_1^Tx)}{\\exp(\\alpha_1+\\beta_1^Tx)+\\exp(\\alpha_2+\\beta_2^Tx)}.\n",
    "$$\n",
    "\n",
    "and\n",
    "\n",
    "$$\n",
    "p(y=1 | \\theta, x) = \\frac{\\exp(\\alpha_2+\\beta_2^Tx)}{\\exp(\\alpha_1+\\beta_1^Tx)+\\exp(\\alpha_2+\\beta_2^Tx)}.\n",
    "$$\n",
    "\n",
    "In order to recover the binomial logistic regression, we need to assume that $\\alpha_1=0$ and $\\beta_1=0$:\n",
    "$$\n",
    "p(y=0 | \\theta, x) = \\frac{1}{1+\\exp(\\alpha_2+\\beta_2^Tx)}.\n",
    "$$\n",
    "\n",
    "and\n",
    "\n",
    "$$\n",
    "p(y=1 | \\theta, x) = \\frac{\\exp(\\alpha_2+\\beta_2^Tx)}{1+\\exp(\\alpha_2+\\beta_2^Tx)}.\n",
    "$$\n",
    "and we obtain the binomial logistic regression.\n",
    "We always assume that $\\alpha_1=0$ and $\\beta_1=0$ even in the case $k>2$, in this way the model is a proper\n",
    "extension of the binomial logistic regression.\n",
    "\n",
    "\n",
    "Thus, for $k=3$, we have that\n",
    "$$\n",
    "p(y=0 | \\theta, x) = \\frac{1}{1+\\exp(\\alpha_2+\\beta_2^Tx)+\\exp(\\alpha_3+\\beta_3^Tx)}.\n",
    "$$\n",
    "\n",
    "and\n",
    "\n",
    "$$\n",
    "p(y=1 | \\theta, x) = \\frac{\\exp(\\alpha_2+\\beta_2^Tx)}{1+\\exp(\\alpha_2+\\beta_2^Tx)+\\exp(\\alpha_3+\\beta_3^Tx)}.\n",
    "$$\n",
    "\n",
    "and\n",
    "\n",
    "$$\n",
    "p(y=2 | \\theta, x) = \\frac{\\exp(\\alpha_3+\\beta_3^Tx)}{1+\\exp(\\alpha_2+\\beta_2^Tx)+\\exp(\\alpha_3+\\beta_3^Tx)}.\n",
    "$$"
   ]
  },
  {
   "cell_type": "markdown",
   "metadata": {},
   "source": [
    "### Dataset\n",
    "\n",
    "1. [Download the dataset](https://d17h27t6h515a5.cloudfront.net/topher/2016/November/581faac4_traffic-signs-data/traffic-signs-data.zip). This is a pickled dataset with size 32x32 images.\n",
    "\n"
   ]
  },
  {
   "cell_type": "markdown",
   "metadata": {},
   "source": [
    "## Step 0: Load The Data"
   ]
  },
  {
   "cell_type": "code",
   "execution_count": null,
   "metadata": {},
   "outputs": [],
   "source": [
    "! pip install opencv-python\n",
    "! pip install scikit-image"
   ]
  },
  {
   "cell_type": "code",
   "execution_count": 9,
   "metadata": {},
   "outputs": [],
   "source": [
    "from scipy.io import loadmat\n",
    "from sklearn.linear_model import LogisticRegression\n",
    "from sklearn.metrics import accuracy_score\n",
    "from sklearn.model_selection import train_test_split\n",
    "%matplotlib inline\n",
    "import pymc3 as pm\n",
    "import random\n",
    "import numpy as np\n",
    "import matplotlib.pyplot as plt\n",
    "import seaborn as sns\n",
    "from IPython.display import HTML\n",
    "import random\n",
    "import pickle\n",
    "import arviz as az\n",
    "import theano as tt\n",
    "\n",
    "### Preprocess the data here. Preprocessing steps could include normalization, converting to grayscale, etc.\n",
    "import cv2\n",
    "from sklearn.model_selection import train_test_split \n",
    "from sklearn.utils import shuffle\n",
    "from skimage.color import rgb2gray\n",
    "import numpy as np\n",
    "\n",
    "\n",
    "def normalize(img):\n",
    "    return cv2.normalize(img, img, alpha=0, beta=1, norm_type=cv2.NORM_MINMAX, dtype=cv2.CV_32F)\n",
    "    \n",
    "\n",
    "def grayscale(img):\n",
    "    #COLOR_BGR2GRAY COLOR_RGB2GRAY\n",
    "    return rgb2gray(img)\n",
    "    #return cv2.cvtColor(img, cv2.COLOR_RGB2GRAY)\n",
    "    #return cv2.cvtColor(img, cv2.COLOR_RGB2GRAY)\n",
    "  \n",
    "\n",
    "def setgrayscale(images):\n",
    "    #from rgb to gray\n",
    "    print(images.shape)\n",
    "    result = np.zeros(shape=(len(images),32,32))\n",
    "    for i in range(len(images)): \n",
    "        #gray = np.resize(grayscale(images[i]), (32, 32, 1))\n",
    "        gray_img = grayscale(images[i])\n",
    "        img_normalized = normalize(gray_img)\n",
    "        result[i] = gray_img\n",
    "    print(result.shape)\n",
    "    return result\n",
    "\n",
    "\n"
   ]
  },
  {
   "cell_type": "code",
   "execution_count": 10,
   "metadata": {},
   "outputs": [],
   "source": [
    "\n",
    "training_file = '../datasets/traffic-signs-data/train.p'\n",
    "testing_file = '../datasets/traffic-signs-data/test.p'\n",
    "\n",
    "\n",
    "with open(training_file, mode='rb') as f:\n",
    "    train = pickle.load(f)\n",
    "with open(testing_file, mode='rb') as f:\n",
    "    test = pickle.load(f)\n",
    "    \n",
    "X_train, y_train = train['features'], train['labels']\n",
    "X_test, y_test = test['features'], test['labels']"
   ]
  },
  {
   "cell_type": "markdown",
   "metadata": {},
   "source": [
    "---\n",
    "\n",
    "## Step 1: Dataset Summary \n",
    "\n",
    "The pickled data is a dictionary with 4 key/value pairs, but the useful ones are:\n",
    "\n",
    "- `'features'` is a 4D array containing raw pixel data of the traffic sign images, (num examples, width, height, channels).\n",
    "- `'labels'` is a 2D array containing the label/class id of the traffic sign. The file `signnames.csv` contains id -> name mappings for each id.\n",
    "\n"
   ]
  },
  {
   "cell_type": "code",
   "execution_count": 11,
   "metadata": {},
   "outputs": [
    {
     "name": "stdout",
     "output_type": "stream",
     "text": [
      "Number of training examples = 39209\n",
      "Number of testing examples = 12630\n",
      "Image data shape = (32, 32, 3)\n",
      "Number of classes = 43\n"
     ]
    }
   ],
   "source": [
    "\n",
    "# Number of training examples\n",
    "n_train =  len(X_train)\n",
    "\n",
    "# Number of testing examples.\n",
    "n_test = len(X_test)\n",
    "\n",
    "#  shape of an traffic sign image\n",
    "image_shape =X_train[0].shape\n",
    "\n",
    "# unique classes/labels  in the dataset.\n",
    "alltotal = set(y_train )\n",
    "n_classes = len(alltotal )\n",
    "\n",
    "print(\"Number of training examples =\", n_train)\n",
    "print(\"Number of testing examples =\", n_test)\n",
    "print(\"Image data shape =\", image_shape)\n",
    "print(\"Number of classes =\", n_classes)"
   ]
  },
  {
   "cell_type": "code",
   "execution_count": 12,
   "metadata": {},
   "outputs": [
    {
     "data": {
      "image/png": "[encoded data removed]",
      "text/plain": [
       "<Figure size 1080x432 with 10 Axes>"
      ]
     },
     "metadata": {
      "needs_background": "light"
     },
     "output_type": "display_data"
    }
   ],
   "source": [
    "# show image of 10 random data points\n",
    "fig, axs = plt.subplots(2,5, figsize=(15, 6))\n",
    "fig.subplots_adjust(hspace = .2, wspace=.001)\n",
    "axs = axs.ravel()\n",
    "for i in range(10):\n",
    "    index = random.randint(0, len(X_train))\n",
    "    image = X_train[index]\n",
    "    axs[i].axis('off')\n",
    "    axs[i].imshow(image)\n",
    "    axs[i].set_title(y_train[index])"
   ]
  },
  {
   "cell_type": "markdown",
   "metadata": {},
   "source": [
    "Thus bar chart shows the frequency distribution of traffic sign respect to the classes.\n",
    "This shows we are dealing with an imbalanced dataset - some classes are much more frequent than others.\n",
    "This may be a problem"
   ]
  },
  {
   "cell_type": "code",
   "execution_count": 13,
   "metadata": {},
   "outputs": [
    {
     "data": {
      "image/png": "[encoded data removed]",
      "text/plain": [
       "<Figure size 432x288 with 1 Axes>"
      ]
     },
     "metadata": {
      "needs_background": "light"
     },
     "output_type": "display_data"
    }
   ],
   "source": [
    "fig, ax = plt.subplots()\n",
    "ind = np.arange(n_classes)\n",
    "\n",
    "n, bins, patches = ax.hist(y_train, n_classes)\n",
    "ax.set_xlabel('classes')\n",
    "ax.set_ylabel('counts')\n",
    "ax.set_title(r'Histogram of traffic sign images')\n",
    "#p1 = ax.bar(ind,0,width,color='r',bottom=0,yerr=0)\n",
    "plt.show()"
   ]
  },
  {
   "cell_type": "markdown",
   "metadata": {},
   "source": [
    "----\n",
    "\n",
    "## Step 2: Data Preparation\n",
    "\n",
    "\n"
   ]
  },
  {
   "cell_type": "markdown",
   "metadata": {},
   "source": [
    "We first convert the images in greyscale so to simplify the problem. "
   ]
  },
  {
   "cell_type": "code",
   "execution_count": 14,
   "metadata": {},
   "outputs": [
    {
     "name": "stdout",
     "output_type": "stream",
     "text": [
      "(39209, 32, 32, 3)\n",
      "(39209, 32, 32)\n",
      "(12630, 32, 32, 3)\n",
      "(12630, 32, 32)\n"
     ]
    },
    {
     "data": {
      "text/plain": [
       "<matplotlib.image.AxesImage at 0x7f964aaec278>"
      ]
     },
     "execution_count": 14,
     "metadata": {},
     "output_type": "execute_result"
    },
    {
     "data": {
      "image/png": "[encoded data removed]",
      "text/plain": [
       "<Figure size 144x144 with 1 Axes>"
      ]
     },
     "metadata": {
      "needs_background": "light"
     },
     "output_type": "display_data"
    },
    {
     "data": {
      "image/png": "[encoded data removed]",
      "text/plain": [
       "<Figure size 144x144 with 1 Axes>"
      ]
     },
     "metadata": {
      "needs_background": "light"
     },
     "output_type": "display_data"
    }
   ],
   "source": [
    "X_traingray = setgrayscale(X_train)\n",
    "X_testgray = setgrayscale(X_test)\n",
    "\n",
    "\n",
    "index = random.randint(0, len(X_traingray))\n",
    "\n",
    "#orginal image\n",
    "image = X_train[index]\n",
    "plt.figure(figsize=(2,2))\n",
    "plt.imshow(image)\n",
    "\n",
    "#channel 0\n",
    "#plt.figure(figsize=(2,2))\n",
    "#plt.imshow(image[:,:,0])\n",
    "\n",
    "#channel 1\n",
    "#plt.figure(figsize=(2,2))\n",
    "#plt.imshow(image[:,:,1])\n",
    "\n",
    "#channel 2\n",
    "#plt.figure(figsize=(2,2))\n",
    "#plt.imshow(image[:,:,2])\n",
    "\n",
    "#grayscale\n",
    "image = X_traingray[index]\n",
    "plt.figure(figsize=(2,2))\n",
    "plt.imshow(image,cmap=\"Greys_r\")"
   ]
  },
  {
   "cell_type": "markdown",
   "metadata": {},
   "source": [
    "The images have also been normalized to avoid numerical problems\n"
   ]
  },
  {
   "cell_type": "markdown",
   "metadata": {},
   "source": [
    "We select only three classes and down-sample the dataset to reduce inference computational time."
   ]
  },
  {
   "cell_type": "code",
   "execution_count": 16,
   "metadata": {},
   "outputs": [],
   "source": [
    "np.random.seed(0)\n",
    "classes = [1, 2, 4]\n",
    "N_per_class =500\n",
    "X = []\n",
    "labels = []\n",
    "for d in classes:\n",
    "    imgs = X_traingray[np.where(y_train==d)[0],:]\n",
    "    X.append(imgs[np.random.permutation(imgs.shape[0]),:][0:N_per_class,:])\n",
    "    labels.append(np.ones(N_per_class)*d)\n",
    "X_traingray2 = np.vstack(X).astype(np.float64)\n",
    "y_train2 = np.hstack(labels)\n"
   ]
  },
  {
   "cell_type": "code",
   "execution_count": 17,
   "metadata": {},
   "outputs": [
    {
     "name": "stdout",
     "output_type": "stream",
     "text": [
      "(1500, 32, 32) (1500,)\n"
     ]
    }
   ],
   "source": [
    "print(X_traingray2.shape,y_train2.shape)"
   ]
  },
  {
   "cell_type": "code",
   "execution_count": 18,
   "metadata": {},
   "outputs": [
    {
     "name": "stdout",
     "output_type": "stream",
     "text": [
      "(1200, 32, 32)\n",
      "(300, 32, 32)\n",
      "(1200,)\n",
      "(300,)\n"
     ]
    }
   ],
   "source": [
    "### we split tha dataset in training and validation\n",
    "X_tr, X_val, y_tr, y_val = train_test_split(X_traingray2, y_train2, test_size=0.2, random_state=0)\n",
    " \n",
    "\n",
    "X_tr, y_tr = shuffle(X_tr, y_tr)\n",
    "\n",
    "print(X_tr.shape)\n",
    "print(X_val.shape)\n",
    "print(y_tr.shape)\n",
    "print(y_val.shape)"
   ]
  },
  {
   "cell_type": "code",
   "execution_count": 73,
   "metadata": {},
   "outputs": [
    {
     "data": {
      "text/plain": [
       "(1200, 32, 32)"
      ]
     },
     "execution_count": 73,
     "metadata": {},
     "output_type": "execute_result"
    }
   ],
   "source": [
    "X_tr.shape"
   ]
  },
  {
   "cell_type": "code",
   "execution_count": 19,
   "metadata": {},
   "outputs": [
    {
     "name": "stdout",
     "output_type": "stream",
     "text": [
      "(1200, 1024)\n",
      "(300, 1024)\n",
      "(1200,)\n",
      "(300,)\n"
     ]
    }
   ],
   "source": [
    "#we transform images into vectors  \n",
    "X_trv = X_tr.flatten().reshape(X_tr.shape[0],X_tr.shape[1]*X_tr.shape[2])\n",
    "X_valv = X_val.flatten().reshape(X_val.shape[0],X_tr.shape[1]*X_tr.shape[2])\n",
    "print(X_trv.shape)\n",
    "print(X_valv.shape)\n",
    "print(y_tr.shape)\n",
    "print(y_val.shape)"
   ]
  },
  {
   "cell_type": "markdown",
   "metadata": {},
   "source": [
    "### Step 3: Algorithm\n",
    "    \n",
    "Design and implement a deep learning model that learns to recognize traffic signs. Train and test your model on the [German Traffic Sign Dataset](http://benchmark.ini.rub.de/?section=gtsrb&subsection=dataset).\n",
    "\n",
    "There are various aspects to consider when thinking about this problem:\n",
    "\n",
    "- Neural network architecture\n",
    "- Play around preprocessing techniques (normalization, rgb to grayscale, etc)\n",
    "- Number of examples per label (some have more than others).\n",
    "- data augmentation to increase the dataset.\n",
    "\n",
    "Here is an example of a [published baseline model on this problem](http://yann.lecun.com/exdb/publis/pdf/sermanet-ijcnn-11.pdf). It's not required to be familiar with the approach used in the paper but, it's good practice to try to read papers like these.\n",
    "\n",
    "We are not interested in obtaining the highest performance, but more in understanding the various approaches.\n",
    "\n",
    "\n",
    "We define our \"general recipe\" machine learning model: logistic regression"
   ]
  },
  {
   "cell_type": "code",
   "execution_count": 21,
   "metadata": {},
   "outputs": [
    {
     "name": "stdout",
     "output_type": "stream",
     "text": [
      "Accuracy= 0.9166666666666666\n"
     ]
    }
   ],
   "source": [
    "#General-recipe ML logistic regression\n",
    "clf = LogisticRegression(random_state=0, max_iter=2000, C=100, solver='lbfgs',multi_class='multinomial').fit(X_trv, y_tr)\n",
    "y_pred_logi = clf.predict(X_valv)\n",
    "y_pred_logi_prob = clf.predict_proba(X_valv)\n",
    "prob_classmax = np.max(y_pred_logi_prob,axis=1)\n",
    "print(\"Accuracy=\",accuracy_score(y_pred_logi,y_val))"
   ]
  },
  {
   "cell_type": "code",
   "execution_count": 22,
   "metadata": {},
   "outputs": [
    {
     "data": {
      "text/plain": [
       "array([0.52463761, 0.53345139, 0.55643581, 0.55773802, 0.58224245,\n",
       "       0.60403631, 0.61194201, 0.63821271, 0.64749601, 0.65715886,\n",
       "       0.69360387, 0.69619205, 0.69694991, 0.73536481, 0.73689035,\n",
       "       0.75177529, 0.76306229, 0.77138441, 0.78663479, 0.79221158,\n",
       "       0.8356519 , 0.8422886 , 0.84329181, 0.85600026, 0.8604722 ,\n",
       "       0.86107104, 0.88899516, 0.89406836, 0.89989458, 0.90122343,\n",
       "       0.90539516, 0.91992252, 0.92262851, 0.92441869, 0.92695924,\n",
       "       0.93359104, 0.93774265, 0.94308883, 0.94332458, 0.94498475,\n",
       "       0.9458793 , 0.94839058, 0.95667568, 0.95716816, 0.95855322,\n",
       "       0.96049391, 0.96328924, 0.96905102, 0.97063323, 0.97073504,\n",
       "       0.97213351, 0.97267889, 0.97446643, 0.97453241, 0.97791746,\n",
       "       0.97854603, 0.97964747, 0.98051971, 0.98125553, 0.98258478,\n",
       "       0.98289948, 0.98434181, 0.98456661, 0.98485633, 0.98527569,\n",
       "       0.98541942, 0.98621999, 0.98710027, 0.98790482, 0.98806405,\n",
       "       0.98838859, 0.98885558, 0.9893193 , 0.98959645, 0.98998832,\n",
       "       0.990923  , 0.9910296 , 0.99212835, 0.99275558, 0.99275815,\n",
       "       0.99293795, 0.99304805, 0.99349902, 0.9937507 , 0.99430078,\n",
       "       0.99462407, 0.99513552, 0.99554679, 0.99556813, 0.99602147,\n",
       "       0.9960366 , 0.99622957, 0.99629682, 0.99634931, 0.99636299,\n",
       "       0.99667339, 0.99672052, 0.99711581, 0.99729465, 0.9974811 ,\n",
       "       0.99751282, 0.99757969, 0.99760279, 0.99788326, 0.99805585,\n",
       "       0.99807578, 0.99831283, 0.9983171 , 0.99832109, 0.99844912,\n",
       "       0.99850933, 0.99862359, 0.99869395, 0.99871103, 0.99876796,\n",
       "       0.99878565, 0.99889458, 0.99889747, 0.99890466, 0.99898825,\n",
       "       0.99898996, 0.99910302, 0.99915311, 0.99919302, 0.99928503,\n",
       "       0.99930877, 0.99931013, 0.99936713, 0.99938191, 0.99942239,\n",
       "       0.99944299, 0.99944441, 0.99947568, 0.99948164, 0.99948167,\n",
       "       0.99948717, 0.99950445, 0.99952987, 0.99953898, 0.99956184,\n",
       "       0.99956806, 0.99957861, 0.99964977, 0.99966356, 0.99969961,\n",
       "       0.99972548, 0.99972717, 0.99973585, 0.99975947, 0.99977511,\n",
       "       0.99977581, 0.99977605, 0.99979085, 0.99979131, 0.99979197,\n",
       "       0.99979783, 0.99980209, 0.99981989, 0.99984899, 0.99985234,\n",
       "       0.99986423, 0.99988305, 0.99989493, 0.99989608, 0.9998989 ,\n",
       "       0.9999    , 0.99990088, 0.99990782, 0.99991489, 0.99991608,\n",
       "       0.99992116, 0.99992884, 0.99993076, 0.99994004, 0.99994389,\n",
       "       0.99995107, 0.99995535, 0.99995608, 0.999957  , 0.99996456,\n",
       "       0.99996694, 0.9999676 , 0.99997053, 0.99997157, 0.99997359,\n",
       "       0.99997802, 0.99997872, 0.99998152, 0.9999816 , 0.99998179,\n",
       "       0.99998313, 0.99998449, 0.99998569, 0.99998653, 0.99998671,\n",
       "       0.99998673, 0.99998828, 0.99998881, 0.99998912, 0.9999899 ,\n",
       "       0.9999899 , 0.99999008, 0.99999125, 0.9999915 , 0.99999294,\n",
       "       0.99999321, 0.99999365, 0.99999419, 0.99999574, 0.99999599,\n",
       "       0.99999636, 0.99999639, 0.99999667, 0.9999969 , 0.99999748,\n",
       "       0.99999751, 0.99999765, 0.99999787, 0.9999981 , 0.99999818,\n",
       "       0.99999818, 0.99999819, 0.99999831, 0.99999835, 0.9999985 ,\n",
       "       0.99999853, 0.99999854, 0.999999  , 0.99999903, 0.99999911,\n",
       "       0.99999913, 0.99999915, 0.99999916, 0.99999921, 0.99999925,\n",
       "       0.99999932, 0.99999935, 0.99999935, 0.99999958, 0.99999962,\n",
       "       0.99999967, 0.99999974, 0.99999977, 0.99999979, 0.99999983,\n",
       "       0.99999987, 0.99999987, 0.99999992, 0.99999993, 0.99999995,\n",
       "       0.99999995, 0.99999996, 0.99999997, 0.99999997, 0.99999997,\n",
       "       0.99999997, 0.99999998, 0.99999998, 0.99999998, 0.99999998,\n",
       "       0.99999999, 0.99999999, 0.99999999, 0.99999999, 0.99999999,\n",
       "       0.99999999, 0.99999999, 1.        , 1.        , 1.        ,\n",
       "       1.        , 1.        , 1.        , 1.        , 1.        ,\n",
       "       1.        , 1.        , 1.        , 1.        , 1.        ,\n",
       "       1.        , 1.        , 1.        , 1.        , 1.        ,\n",
       "       1.        , 1.        , 1.        , 1.        , 1.        ,\n",
       "       1.        , 1.        , 1.        , 1.        , 1.        ,\n",
       "       1.        , 1.        , 1.        , 1.        , 1.        ])"
      ]
     },
     "execution_count": 22,
     "metadata": {},
     "output_type": "execute_result"
    }
   ],
   "source": [
    "np.sort(prob_classmax)"
   ]
  },
  {
   "cell_type": "code",
   "execution_count": 23,
   "metadata": {},
   "outputs": [
    {
     "data": {
      "text/plain": [
       "array([0.52463761, 0.98485633, 0.73689035, 0.73536481, 0.99990782,\n",
       "       0.91992252, 0.88899516, 0.77138441, 0.99957861, 0.69619205,\n",
       "       0.99999667, 0.95855322, 0.53345139, 0.98838859, 0.99667339,\n",
       "       0.99212835, 0.97791746, 0.61194201, 0.63821271, 0.96049391,\n",
       "       0.58224245, 0.99751282, 0.98959645, 0.93774265, 0.69360387])"
      ]
     },
     "execution_count": 23,
     "metadata": {},
     "output_type": "execute_result"
    }
   ],
   "source": [
    "#probability of general-recipe logistic regression in wrong instances\n",
    "prob_classmax[y_pred_logi!=y_val]"
   ]
  },
  {
   "cell_type": "code",
   "execution_count": 24,
   "metadata": {},
   "outputs": [
    {
     "data": {
      "text/plain": [
       "array([1., 1., 4., 1., 4., 4., 2., 1., 1., 4., 1., 4., 4., 1., 4., 1., 4.,\n",
       "       4., 4., 4., 1., 1., 1., 1., 4., 2., 4., 2., 2., 4., 4., 1., 4., 2.,\n",
       "       4., 4., 1., 2., 1., 1., 4., 4., 4., 2., 1., 2., 4., 2., 2., 4., 2.,\n",
       "       4., 2., 4., 2., 4., 2., 2., 4., 4., 1., 1., 4., 1., 2., 2., 2., 4.,\n",
       "       1., 4., 1., 1., 2., 4., 1., 2., 2., 1., 1., 4., 4., 1., 1., 1., 2.,\n",
       "       1., 4., 1., 4., 1., 2., 1., 1., 1., 2., 4., 2., 1., 1., 2., 4., 4.,\n",
       "       1., 2., 4., 2., 1., 1., 2., 4., 1., 1., 1., 1., 4., 2., 1., 4., 2.,\n",
       "       1., 4., 2., 1., 2., 1., 2., 1., 1., 4., 2., 2., 2., 1., 4., 2., 1.,\n",
       "       1., 1., 4., 1., 2., 2., 2., 4., 1., 1., 2., 1., 4., 1., 1., 4., 1.,\n",
       "       2., 2., 2., 4., 1., 2., 2., 4., 2., 1., 4., 4., 2., 4., 4., 1., 1.,\n",
       "       1., 4., 4., 1., 2., 1., 1., 2., 4., 2., 1., 1., 2., 1., 2., 1., 2.,\n",
       "       1., 1., 1., 4., 4., 4., 1., 4., 1., 2., 1., 1., 1., 1., 1., 2., 1.,\n",
       "       2., 2., 1., 1., 2., 2., 4., 2., 1., 4., 4., 1., 4., 2., 1., 4., 2.,\n",
       "       1., 2., 2., 2., 1., 4., 4., 1., 1., 2., 4., 4., 2., 2., 2., 4., 4.,\n",
       "       1., 1., 2., 1., 2., 2., 1., 4., 4., 1., 4., 1., 4., 2., 4., 2., 2.,\n",
       "       4., 1., 4., 2., 4., 1., 2., 2., 1., 4., 2., 4., 2., 2., 4., 4., 4.,\n",
       "       4., 4., 4., 4., 4., 1., 1., 4., 4., 4., 4., 2., 4., 1., 2., 2., 4.,\n",
       "       1., 4., 2., 1., 2., 4., 1., 2., 2., 4., 1.])"
      ]
     },
     "execution_count": 24,
     "metadata": {},
     "output_type": "execute_result"
    }
   ],
   "source": [
    "np.array(y_pred_logi)"
   ]
  },
  {
   "cell_type": "markdown",
   "metadata": {},
   "source": [
    "it performs quite well"
   ]
  },
  {
   "cell_type": "markdown",
   "metadata": {},
   "source": [
    "## Step 4: Probabilistic ML"
   ]
  },
  {
   "cell_type": "code",
   "execution_count": 25,
   "metadata": {},
   "outputs": [
    {
     "name": "stderr",
     "output_type": "stream",
     "text": [
      "/home/benavoli/.local/lib/python3.6/site-packages/theano/tensor/subtensor.py:2197: FutureWarning: Using a non-tuple sequence for multidimensional indexing is deprecated; use `arr[tuple(seq)]` instead of `arr[seq]`. In the future this will be interpreted as an array index, `arr[np.array(seq)]`, which will result either in an error or a different result.\n",
      "  rval = inputs[0].__getitem__(inputs[1:])\n"
     ]
    }
   ],
   "source": [
    "import sklearn.preprocessing\n",
    "# we need to transfor classes into counts for that class, we will use LabelBinarizer\n",
    "y_2_bin = sklearn.preprocessing.LabelBinarizer().fit_transform(y_tr.reshape(-1,1))\n",
    "nf = X_trv.shape[1]\n",
    "nc = len(classes)\n",
    "\n",
    "floatX = tt.config.floatX\n",
    "\n",
    "\n",
    "\n",
    "init_b = np.random.randn(nf, nc-1).astype(floatX)\n",
    "init_a = np.random.randn(nc-1).astype(floatX)\n",
    "\n",
    "with pm.Model() as multi_logistic:\n",
    "    # Prior\n",
    "    β = pm.Normal('beta', 0, sigma=100, shape=(nf, nc-1), testval=init_b)\n",
    "    α = pm.Normal('alpha', 0, sigma=100, shape=(nc-1,), testval=init_a)\n",
    "    \n",
    "    #we need to consider nc-1 features because the model is not identifiable\n",
    "    #the softamx turns a vector into a probability that sums up to one\n",
    "    #therefore we add zeros to go back to dimension nc\n",
    "    # so that softmax returns a vector of dimension nc\n",
    "    β1  = tt.tensor.concatenate([np.zeros((nf,1)),β ],axis=1)\n",
    "    α1  = tt.tensor.concatenate([[0],α ],)\n",
    "    \n",
    "    #Likelihood\n",
    "    mu = pm.math.matrix_dot(X_trv,β1) + α1\n",
    "    p = tt.tensor.nnet.nnet.softmax(mu)# It doesn't work if the problem is binary\n",
    "    observed = pm.Multinomial('likelihood', p=p, n=1, observed=y_2_bin)\n",
    "\n",
    "#We cannot use the categorical distribution because there is a bug\n",
    "\n",
    "\n"
   ]
  },
  {
   "cell_type": "code",
   "execution_count": 21,
   "metadata": {},
   "outputs": [
    {
     "name": "stderr",
     "output_type": "stream",
     "text": [
      "Average Loss = 10,716: 100%|██████████| 300000/300000 [18:46<00:00, 266.43it/s]\n",
      "Finished [100%]: Average Loss = 10,712\n"
     ]
    }
   ],
   "source": [
    "with multi_logistic:\n",
    "    approx = pm.fit(300000, method='advi')"
   ]
  },
  {
   "cell_type": "code",
   "execution_count": 22,
   "metadata": {},
   "outputs": [
    {
     "data": {
      "text/plain": [
       "[<matplotlib.lines.Line2D at 0x7fc8a0a58780>]"
      ]
     },
     "execution_count": 22,
     "metadata": {},
     "output_type": "execute_result"
    },
    {
     "data": {
      "image/png": "[encoded data removed]",
      "text/plain": [
       "<Figure size 432x288 with 1 Axes>"
      ]
     },
     "metadata": {
      "needs_background": "light"
     },
     "output_type": "display_data"
    }
   ],
   "source": [
    "plt.plot(approx.hist)"
   ]
  },
  {
   "cell_type": "code",
   "execution_count": 52,
   "metadata": {},
   "outputs": [],
   "source": []
  },
  {
   "cell_type": "code",
   "execution_count": 23,
   "metadata": {},
   "outputs": [],
   "source": [
    "posterior = approx.sample(draws=300)"
   ]
  },
  {
   "cell_type": "code",
   "execution_count": 27,
   "metadata": {},
   "outputs": [
    {
     "name": "stdout",
     "output_type": "stream",
     "text": [
      "true class= 4.0\n",
      "estimated prob= [0.2347025  0.00000005 0.76529744]\n"
     ]
    },
    {
     "data": {
      "image/png": "[encoded data removed]",
      "text/plain": [
       "<Figure size 144x144 with 1 Axes>"
      ]
     },
     "metadata": {
      "needs_background": "light"
     },
     "output_type": "display_data"
    }
   ],
   "source": [
    "from scipy.special import softmax\n",
    "i=10 #select an image in the test set\n",
    "s=100 #select a sample in the posterior\n",
    "\n",
    "beta  = np.hstack([np.zeros((nf,1)),  posterior['beta'][s,:] ])\n",
    "alpha = np.hstack([[0],  posterior['alpha'][s,:] ])\n",
    "image = X_valv[i,:].reshape(32,32)\n",
    "plt.figure(figsize=(2,2))\n",
    "plt.imshow(image,cmap=\"Greys_r\")\n",
    "np.set_printoptions(suppress=True)\n",
    "print(\"true class=\",y_val[i])\n",
    "print(\"estimated prob=\",softmax((np.array([X_valv[i,:].dot(beta) + alpha])))[0,:])"
   ]
  },
  {
   "cell_type": "code",
   "execution_count": 28,
   "metadata": {},
   "outputs": [],
   "source": [
    "# we return the class that has the highest posterior probability\n",
    "y_pred_Bayesian=[]\n",
    "for i in range(X_valv.shape[0]):\n",
    "    val=np.zeros((1,len(classes)))\n",
    "    for s in range(posterior['beta'].shape[0]):\n",
    "        \n",
    "        beta = np.hstack([np.zeros((nf,1)),  posterior['beta'][s,:] ])\n",
    "        alpha = np.hstack([[0],  posterior['alpha'][s,:] ])\n",
    "        \n",
    "        val = val + softmax((np.array([X_valv[i,:].dot(beta) + alpha])))\n",
    "    mean_probability = val/posterior['beta'].shape[0]\n",
    "    y_pred_Bayesian.append( np.argmax(mean_probability))\n"
   ]
  },
  {
   "cell_type": "code",
   "execution_count": 29,
   "metadata": {},
   "outputs": [
    {
     "data": {
      "text/plain": [
       "array([1, 1, 4, 1, 4, 4, 2, 2, 1, 4])"
      ]
     },
     "execution_count": 29,
     "metadata": {},
     "output_type": "execute_result"
    }
   ],
   "source": [
    "np.array(classes)[y_pred_Bayesian[0:10]]"
   ]
  },
  {
   "cell_type": "code",
   "execution_count": 30,
   "metadata": {},
   "outputs": [
    {
     "name": "stdout",
     "output_type": "stream",
     "text": [
      "Accuracy= 0.92\n"
     ]
    }
   ],
   "source": [
    "print(\"Accuracy=\",accuracy_score(np.array(classes)[y_pred_Bayesian],y_val))"
   ]
  },
  {
   "cell_type": "markdown",
   "metadata": {},
   "source": [
    "## Selecting different instances"
   ]
  },
  {
   "cell_type": "code",
   "execution_count": 31,
   "metadata": {},
   "outputs": [],
   "source": [
    "y_predB=[]\n",
    "for i in range(X_valv.shape[0]):\n",
    "    #print(i)\n",
    "    val=[]\n",
    "    for s in range(posterior['beta'].shape[0]):\n",
    "        beta = np.hstack([np.zeros((nf,1)),  posterior['beta'][s,:] ])\n",
    "        alpha = np.hstack([[0],  posterior['alpha'][s,:] ])\n",
    "        val.append(softmax((np.array([X_valv[i,:].dot(beta) + alpha])))[0,:])\n",
    "    #mean probability\n",
    "    valmean = np.mean(val,axis=0)\n",
    "    #class with maximum mean probability\n",
    "    classmax = np.argmax(valmean)\n",
    "    #ranks\n",
    "    ranks = np.array(val.copy())\n",
    "    ranks   = ranks  *0 #init\n",
    "    colmax = np.argmax(np.array(val),axis=1)\n",
    "    ranks[np.arange(0,len(colmax)),colmax]=1\n",
    "     \n",
    "    y_predB.append( [classmax, valmean[classmax], np.std(ranks,axis=0)[classmax]])\n",
    "    \n",
    "y_predB= np.array(y_predB)"
   ]
  },
  {
   "cell_type": "code",
   "execution_count": 40,
   "metadata": {},
   "outputs": [
    {
     "data": {
      "text/plain": [
       "array([[0.        , 0.86933776, 0.33259919],\n",
       "       [0.        , 0.49986013, 0.49972215],\n",
       "       [2.        , 0.6280445 , 0.48368952],\n",
       "       [0.        , 0.79121501, 0.40491426],\n",
       "       [2.        , 0.88989004, 0.15095989],\n",
       "       [2.        , 0.91061395, 0.19595918],\n",
       "       [1.        , 0.69984204, 0.4567883 ],\n",
       "       [1.        , 0.57794782, 0.49056657],\n",
       "       [0.        , 0.86992612, 0.33993463],\n",
       "       [2.        , 0.99202914, 0.        ]])"
      ]
     },
     "execution_count": 40,
     "metadata": {},
     "output_type": "execute_result"
    }
   ],
   "source": [
    "y_predB[0:10,:]"
   ]
  },
  {
   "cell_type": "code",
   "execution_count": 50,
   "metadata": {},
   "outputs": [
    {
     "data": {
      "text/plain": [
       "array([[1.        , 0.47565022, 0.49995555],\n",
       "       [2.        , 0.5019077 , 0.49995555],\n",
       "       [0.        , 0.51624215, 0.49989999],\n",
       "       [0.        , 0.48920855, 0.49989999],\n",
       "       [0.        , 0.49898607, 0.49989999],\n",
       "       [2.        , 0.51970781, 0.49989999],\n",
       "       [0.        , 0.49957717, 0.49982219],\n",
       "       [1.        , 0.49515173, 0.49982219],\n",
       "       [0.        , 0.48654376, 0.49982219],\n",
       "       [0.        , 0.47263347, 0.49982219]])"
      ]
     },
     "execution_count": 50,
     "metadata": {},
     "output_type": "execute_result"
    }
   ],
   "source": [
    "#sorting in descending order\n",
    "difficult = np.argsort(-y_predB[:,2])\n",
    "y_predB[difficult[0:10],:]"
   ]
  },
  {
   "cell_type": "code",
   "execution_count": 54,
   "metadata": {},
   "outputs": [
    {
     "data": {
      "text/plain": [
       "array([0.85661558, 0.98715747, 0.40006722, 0.99999998, 0.55664461,\n",
       "       0.7549268 , 0.98064668, 0.99592836, 0.87686123, 0.67738354,\n",
       "       0.95384876, 0.79993484, 0.99957193, 0.85859316, 0.63516454,\n",
       "       0.99523409, 0.77912464, 0.99022744, 0.6853827 , 0.75006792,\n",
       "       0.98677846, 0.99747082, 0.94091906, 0.95453669, 0.5023721 ])"
      ]
     },
     "execution_count": 54,
     "metadata": {},
     "output_type": "execute_result"
    }
   ],
   "source": [
    "#probability of general-recipe logistic regression in wrong instances\n",
    "prob_classmax[y_pred_logi!=y_val]"
   ]
  },
  {
   "cell_type": "code",
   "execution_count": 55,
   "metadata": {},
   "outputs": [
    {
     "data": {
      "text/plain": [
       "array([[2.        , 0.65514022, 0.47256981],\n",
       "       [2.        , 0.56317347, 0.49355851],\n",
       "       [0.        , 0.42226471, 0.49677851],\n",
       "       [0.        , 0.64163718, 0.48095969],\n",
       "       [1.        , 0.54368203, 0.49781746],\n",
       "       [1.        , 0.74574318, 0.42503595],\n",
       "       [1.        , 0.51565748, 0.49959984],\n",
       "       [0.        , 0.56042159, 0.49243161],\n",
       "       [2.        , 0.74587702, 0.4330127 ],\n",
       "       [0.        , 0.51026748, 0.49959984],\n",
       "       [0.        , 0.71616538, 0.44567053],\n",
       "       [0.        , 0.47030082, 0.49972215],\n",
       "       [0.        , 0.82386448, 0.37853519],\n",
       "       [1.        , 0.47565022, 0.49995555],\n",
       "       [2.        , 0.91075852, 0.22469733],\n",
       "       [2.        , 0.38426065, 0.48774994],\n",
       "       [2.        , 0.60367164, 0.48455019],\n",
       "       [0.        , 0.47025416, 0.49909919],\n",
       "       [0.        , 0.48920855, 0.49989999],\n",
       "       [2.        , 0.5019077 , 0.49995555],\n",
       "       [1.        , 0.65955034, 0.47021272],\n",
       "       [2.        , 0.63646173, 0.48095969],\n",
       "       [1.        , 0.73380696, 0.44221664],\n",
       "       [1.        , 0.60946225, 0.48455019],\n",
       "       [1.        , 0.69904518, 0.45825757]])"
      ]
     },
     "execution_count": 55,
     "metadata": {},
     "output_type": "execute_result"
    }
   ],
   "source": [
    "y_predB[y_pred_logi!=y_val,:]"
   ]
  },
  {
   "cell_type": "code",
   "execution_count": 41,
   "metadata": {},
   "outputs": [
    {
     "name": "stdout",
     "output_type": "stream",
     "text": [
      "Accuracy in easy instances = 1.0\n",
      "Accuracy in difficult instances = 0.8\n"
     ]
    }
   ],
   "source": [
    "easy = np.argsort(y_predB[:,2])\n",
    "print(\"Accuracy in easy instances =\",accuracy_score(y_pred_logi[easy[0:100]],y_val[easy[0:100]]))\n",
    "\n",
    "difficult = np.argsort(-y_predB[:,2])\n",
    "print(\"Accuracy in difficult instances =\",accuracy_score(y_pred_logi[difficult[0:100]],y_val[difficult[0:100]]))"
   ]
  },
  {
   "cell_type": "code",
   "execution_count": 42,
   "metadata": {},
   "outputs": [
    {
     "data": {
      "image/png": "[encoded data removed]",
      "text/plain": [
       "<Figure size 1080x432 with 10 Axes>"
      ]
     },
     "metadata": {
      "needs_background": "light"
     },
     "output_type": "display_data"
    }
   ],
   "source": [
    "\n",
    "# show image of 10 random data points\n",
    "fig, axs = plt.subplots(2,5, figsize=(15, 6))\n",
    "fig.subplots_adjust(hspace = .2, wspace=.001)\n",
    "axs = axs.ravel()\n",
    "for i in range(10):\n",
    "    index = easy[i]\n",
    "    image = X_valv[index,:].reshape(32,32)\n",
    "    axs[i].axis('off')\n",
    "    axs[i].imshow(image,cmap=\"Greys_r\")\n",
    "    "
   ]
  },
  {
   "cell_type": "code",
   "execution_count": 43,
   "metadata": {},
   "outputs": [
    {
     "data": {
      "image/png": "[encoded data removed]",
      "text/plain": [
       "<Figure size 1080x432 with 10 Axes>"
      ]
     },
     "metadata": {
      "needs_background": "light"
     },
     "output_type": "display_data"
    }
   ],
   "source": [
    "\n",
    "# show image of 10 random data points\n",
    "fig, axs = plt.subplots(2,5, figsize=(15, 6))\n",
    "fig.subplots_adjust(hspace = .2, wspace=.001)\n",
    "axs = axs.ravel()\n",
    "for i in range(10):\n",
    "    index = difficult[i]\n",
    "    image = X_valv[index,:].reshape(32,32)\n",
    "    axs[i].axis('off')\n",
    "    axs[i].imshow(image,cmap=\"Greys_r\")\n",
    "    "
   ]
  }
 ],
 "metadata": {
  "anaconda-cloud": {},
  "kernelspec": {
   "display_name": "Python 3",
   "language": "python",
   "name": "python3"
  },
  "language_info": {
   "codemirror_mode": {
    "name": "ipython",
    "version": 3
   },
   "file_extension": ".py",
   "mimetype": "text/x-python",
   "name": "python",
   "nbconvert_exporter": "python",
   "pygments_lexer": "ipython3",
   "version": "3.6.9"
  },
  "toc": {
   "base_numbering": 1,
   "nav_menu": {},
   "number_sections": true,
   "sideBar": true,
   "skip_h1_title": false,
   "title_cell": "Table of Contents",
   "title_sidebar": "Contents",
   "toc_cell": false,
   "toc_position": {},
   "toc_section_display": true,
   "toc_window_display": false
  }
 },
 "nbformat": 4,
 "nbformat_minor": 1
}
