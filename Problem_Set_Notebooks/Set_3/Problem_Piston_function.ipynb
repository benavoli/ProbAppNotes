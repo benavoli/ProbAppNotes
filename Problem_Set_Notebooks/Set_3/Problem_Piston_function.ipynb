{
 "cells": [
  {
   "cell_type": "markdown",
   "metadata": {},
   "source": [
    "## Piston simulation function\n",
    "\n",
    "The Piston Simulation function models the circular motion of a piston within a cylinder. It involves a chain of nonlinear functions, see [here](https://www.sfu.ca/~ssurjano/piston.html) for the equations.\n",
    "\n",
    "The response C is cycle time (the time it takes to complete one cycle), in seconds. \n",
    "\n",
    "The input variables and their usual input ranges are:\n",
    "\n",
    "* M in [30, 60] \tpiston weight (kg)\n",
    "* S in [0.005, 0.020] \tpiston surface area (m2)\n",
    "* V0 in [0.002, 0.010] \tinitial gas volume (m3)\n",
    "* k in [1000, 5000] \tspring coefficient (N/m)\n",
    "* P0 in [90000, 110000]    \tatmospheric pressure (N/m2)\n",
    "* Ta in [290, 296]    \tambient temperature (K)\n",
    "* T0 in [340, 360]    \tfilling gas temperature (K)\n"
   ]
  },
  {
   "cell_type": "code",
   "execution_count": 120,
   "metadata": {},
   "outputs": [],
   "source": [
    "#this function implements the equations\n",
    "import numpy as np\n",
    "\n",
    "def piston(xx):\n",
    "\n",
    "    #%%%%%%%%%%%%%%%%%%%%%%%%%%%%%%%%%%%%%%%%%%%%%%%%%%%%%%%%%%%%%%%%%%%%%%%%%%\n",
    "    #%\n",
    "    #% OUTPUT AND INPUT:\n",
    "    #%\n",
    "    #% C = cycle time\n",
    "    #% xx = [M, S, V0, k, P0, Ta, T0]\n",
    "    #%\n",
    "    #%%%%%%%%%%%%%%%%%%%%%%%%%%%%%%%%%%%%%%%%%%%%%%%%%%%%%%%%%%%%%%%%%%%%%%%%%\n",
    "\n",
    "    M  = xx[0];\n",
    "    S  = xx[1];\n",
    "    V0 = xx[2];\n",
    "    k  = xx[3];\n",
    "    P0 = xx[4];\n",
    "    Ta = xx[5];\n",
    "    T0 = xx[6];\n",
    "\n",
    "    Aterm1 = P0 * S;\n",
    "    Aterm2 = 19.62 * M;\n",
    "    Aterm3 = -k*V0 / S;\n",
    "    A = Aterm1 + Aterm2 + Aterm3;\n",
    "\n",
    "    Vfact1 = S / (2*k);\n",
    "    Vfact2 = np.sqrt(A**2 + 4*k*(P0*V0/T0)*Ta);\n",
    "    V = Vfact1 * (Vfact2 - A);\n",
    "\n",
    "    fact1 = M;\n",
    "    fact2 = k + (S**2)*(P0*V0/T0)*(Ta/(V**2));\n",
    "\n",
    "    C = 2 * np.pi * np.sqrt(fact1/fact2);\n",
    "\n",
    "    return C\n",
    "\n",
    "\n",
    "# We make a dataset\n",
    "n=200\n",
    "M=np.random.uniform(30, 60, n)[:,None] #piston weight (kg)\n",
    "S=np.random.uniform(0.005, 0.020, n)[:,None] #piston surface area (m2)\n",
    "V0=np.random.uniform(0.002, 0.010, n)[:,None]  #initial gas volume (m3)\n",
    "k=np.random.uniform(1000, 5000, n)[:,None] #spring coefficient (N/m)\n",
    "P0=np.random.uniform(90000, 110000, n)[:,None] #atmospheric pressure (N/m2)\n",
    "Ta=np.random.uniform(290, 296, n)[:,None] #ambient temperature (K)\n",
    "T0=np.random.uniform(340, 360, n)[:,None] #filling gas temperature (K)\n",
    "\n",
    "np.random.seed(42)\n",
    "X=np.hstack([M,S,V0,k,P0,Ta,T0])#dataset\n",
    "Y=[]\n",
    "for i in range(n):\n",
    "    Y.append(piston(X[i,:])+np.random.randn(1)*0.01)#we add some Gaussian noise\n",
    "Y=np.array(Y)"
   ]
  },
  {
   "cell_type": "markdown",
   "metadata": {},
   "source": [
    "Your **goal** is to use a Bayesian NN to learn a surrogated model of the Piston function and compute the posterior of the prediction of the output $C$ at $Xpred=[45,0.015,0.008,3500,100000,290,341]$ and compare it with:\n",
    "* the true value \n",
    "* the prediction returned by Keras for the same NN structure."
   ]
  },
  {
   "cell_type": "code",
   "execution_count": 118,
   "metadata": {},
   "outputs": [
    {
     "data": {
      "text/plain": [
       "0.4603480963134951"
      ]
     },
     "execution_count": 118,
     "metadata": {},
     "output_type": "execute_result"
    }
   ],
   "source": [
    "Xtest=np.array([[45,0.015,0.008,3500,100000,290,341]])\n",
    "piston(Xtest[0,:])"
   ]
  }
 ],
 "metadata": {
  "kernelspec": {
   "display_name": "Python 3",
   "language": "python",
   "name": "python3"
  },
  "language_info": {
   "codemirror_mode": {
    "name": "ipython",
    "version": 3
   },
   "file_extension": ".py",
   "mimetype": "text/x-python",
   "name": "python",
   "nbconvert_exporter": "python",
   "pygments_lexer": "ipython3",
   "version": "3.6.9"
  },
  "toc": {
   "base_numbering": 1,
   "nav_menu": {},
   "number_sections": true,
   "sideBar": true,
   "skip_h1_title": false,
   "title_cell": "Table of Contents",
   "title_sidebar": "Contents",
   "toc_cell": false,
   "toc_position": {},
   "toc_section_display": true,
   "toc_window_display": false
  }
 },
 "nbformat": 4,
 "nbformat_minor": 4
}
