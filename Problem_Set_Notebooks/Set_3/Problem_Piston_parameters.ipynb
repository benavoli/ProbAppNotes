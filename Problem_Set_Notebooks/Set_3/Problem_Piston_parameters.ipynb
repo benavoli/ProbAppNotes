{
 "cells": [
  {
   "cell_type": "markdown",
   "metadata": {},
   "source": [
    "## Piston simulation function\n",
    "\n",
    "Using linear regression, NN for input-output relationships is called black-bod modelling. In many practical applications, we have some knowledge of the input-output model in terms of equations (white-box model). The goal of this notebook is to learn how \n",
    "1. to estimate the parameters of these equations from data\n",
    "2. to combine equations and Machine Learning to compensate modelling errors.\n",
    "3. compare pure black-box, white-box, and mixed models for predictions.\n",
    "\n",
    "We will use again the Piston Simulation function, which models the circular motion of a piston within a cylinder. It involves a chain of nonlinear functions, see [here](https://www.sfu.ca/~ssurjano/piston.html) for the equations.\n",
    "\n",
    "The response C is cycle time (the time it takes to complete one cycle), in seconds. \n",
    "\n",
    "The input variables and their usual input ranges are:\n",
    "\n",
    "* M in [30, 60] \tpiston weight (kg)\n",
    "* S in [0.005, 0.020] \tpiston surface area (m2)\n",
    "* V0 in [0.002, 0.010] \tinitial gas volume (m3)\n",
    "* k in [1000, 5000] \tspring coefficient (N/m)\n",
    "* P0 in [90000, 110000]    \tatmospheric pressure (N/m2)\n",
    "* Ta in [290, 296]    \tambient temperature (K)\n",
    "* T0 in [340, 360]    \tfilling gas temperature (K)\n"
   ]
  },
  {
   "cell_type": "code",
   "execution_count": 28,
   "metadata": {},
   "outputs": [],
   "source": [
    "#this function implements the equations\n",
    "import numpy as np\n",
    "\n",
    "def piston(xx):\n",
    "\n",
    "    #%%%%%%%%%%%%%%%%%%%%%%%%%%%%%%%%%%%%%%%%%%%%%%%%%%%%%%%%%%%%%%%%%%%%%%%%%%\n",
    "    #%\n",
    "    #% OUTPUT AND INPUT:\n",
    "    #%\n",
    "    #% C = cycle time\n",
    "    #% xx = [M, S, V0, k, P0, Ta, T0]\n",
    "    #%\n",
    "    #%%%%%%%%%%%%%%%%%%%%%%%%%%%%%%%%%%%%%%%%%%%%%%%%%%%%%%%%%%%%%%%%%%%%%%%%%\n",
    "\n",
    "    M  = xx[0];\n",
    "    S  = xx[1];\n",
    "    V0 = xx[2];\n",
    "    k  = xx[3];\n",
    "    P0 = xx[4];\n",
    "    Ta = xx[5];\n",
    "    T0 = xx[6];\n",
    "\n",
    "    Aterm1 = P0 * S;\n",
    "    Aterm2 = 19.62 * M;\n",
    "    Aterm3 = -k*V0 / S;\n",
    "    A = Aterm1 + Aterm2 + Aterm3;\n",
    "\n",
    "    Vfact1 = S / (2*k);\n",
    "    Vfact2 = np.sqrt(A**2 + 4*k*(P0*V0/T0)*Ta);\n",
    "    V = Vfact1 * (Vfact2 - A);\n",
    "\n",
    "    fact1 = M;\n",
    "    fact2 = k + (S**2)*(P0*V0/T0)*(Ta/(V**2));\n",
    "\n",
    "    C = 2 * np.pi * np.sqrt(fact1/fact2);\n",
    "\n",
    "    return C\n",
    "\n",
    "\n",
    "# We make a dataset\n",
    "n=200\n",
    "M=np.random.uniform(30, 60, n)[:,None] #piston weight (kg)\n",
    "S=np.random.uniform(0.005, 0.020, n)[:,None] #piston surface area (m2)\n",
    "V0=0.005*np.ones(n)[:,None]; #UNKNOWN \n",
    "k=3500*np.ones(n)[:,None] #UNKNOWN \n",
    "P0=np.random.uniform(90000, 110000, n)[:,None] #atmospheric pressure (N/m2)\n",
    "Ta=np.random.uniform(290, 296, n)[:,None] #ambient temperature (K)\n",
    "T0=347*np.ones(n)[:,None]#UNKNOWN \n",
    "\n",
    "np.random.seed(42)\n",
    "X=np.hstack([M,S,V0,k,P0,Ta,T0])#dataset\n",
    "Y=[]\n",
    "for i in range(n):\n",
    "    Y.append(piston(X[i,:])+np.random.randn(1)*0.01)#we add some Gaussian noise\n",
    "Y=np.array(Y)\n",
    "\n",
    "X=X[:,[0,1,4,5]]#we drop the columns we do not know. This is your input."
   ]
  },
  {
   "cell_type": "markdown",
   "metadata": {},
   "source": [
    "## Estimating the parameters of process equations\n",
    "\n",
    "When we derive a mathematical model of some process (chemical, manufacturing, etc.), some of the parameters may be unknown.\n",
    "For instance, in the Piston example, these parameters are\n",
    "* spring coefficient (N/m)\n",
    "* initial gas volume (m3)\n",
    "* filling gas temperature (K)\n",
    "\n",
    "To estimate these parameters we can perform a DOE (design of experiments). It helps you investigate the effects of input variables (factors we can change) on an output variable (response). These experiments consist of a series of runs, or tests, in which purposeful changes are made to the input variables.\n",
    "In the code above, I have just generate a random design, but there are other better ways, see [PyDOE](https://pythonhosted.org/pyDOE/).\n",
    "\n",
    "**Question 1:** Assuming the values of $V0,K,T0$ are unknown, use the above data from the DOE to estimate the value of these three unknown parameters. In particular, write a PyMC3 models that compute the posterior of $V0,K,T0$ and then again predict the value of $C$ at $Xpred=[45,0.015,0.008,3500,100000,290,341]$. We assume that you know the equations above of the piston."
   ]
  },
  {
   "cell_type": "code",
   "execution_count": 24,
   "metadata": {},
   "outputs": [],
   "source": [
    "\n",
    "def piston_modified(xx):\n",
    "\n",
    "    #%%%%%%%%%%%%%%%%%%%%%%%%%%%%%%%%%%%%%%%%%%%%%%%%%%%%%%%%%%%%%%%%%%%%%%%%%%\n",
    "    #%\n",
    "    #% OUTPUT AND INPUT:\n",
    "    #%\n",
    "    #% C = cycle time\n",
    "    #% xx = [M, S, V0, k, P0, Ta, T0]\n",
    "    #%\n",
    "    #%%%%%%%%%%%%%%%%%%%%%%%%%%%%%%%%%%%%%%%%%%%%%%%%%%%%%%%%%%%%%%%%%%%%%%%%%\n",
    "\n",
    "    M  = xx[0];\n",
    "    S  = xx[1];\n",
    "    V0 = xx[2];\n",
    "    k  = xx[3];\n",
    "    P0 = xx[4];\n",
    "    Ta = xx[5];\n",
    "    T0 = xx[6];\n",
    "\n",
    "    Aterm1 = P0 * S;\n",
    "    Aterm2 = 19.62 * M;\n",
    "    Aterm3 = -k*V0 / S;\n",
    "    A = Aterm1 + Aterm2 + Aterm3;\n",
    "\n",
    "    Vfact1 = S / (2*k);\n",
    "    Vfact2 = np.sqrt(A**2 + 4*k*(P0*V0/T0)*Ta);\n",
    "    V = Vfact1 * (Vfact2 - A);\n",
    "\n",
    "    fact1 = M;\n",
    "    fact2 = k + (S**2)*(P0*V0/T0)*(Ta/(abs(V)**1.7));\n",
    "\n",
    "    C = 2 * np.pi * np.sqrt(fact1/fact2);\n",
    "\n",
    "    return C\n"
   ]
  },
  {
   "cell_type": "markdown",
   "metadata": {},
   "source": [
    "**Question 2:** Sometimes the model we derive is not very good. For instance, assume we have written the model `piston_modified` for the Piston, but instead the \"true\" model is `piston`."
   ]
  },
  {
   "cell_type": "code",
   "execution_count": 25,
   "metadata": {},
   "outputs": [
    {
     "name": "stdout",
     "output_type": "stream",
     "text": [
      "0.4603480963134951 0.6261879786383996\n"
     ]
    }
   ],
   "source": [
    "Xtest=np.array([[45,0.015,0.008,3500,100000,290,341]])\n",
    "print(piston(Xtest[0,:]),piston_modified(Xtest[0,:]))"
   ]
  },
  {
   "cell_type": "markdown",
   "metadata": {},
   "source": [
    "Consider the dataset above, but this time assume that you know the equations in `piston_modified` but not the equations in `piston` and as before you do not know $V0,K,T0$.   Your goal is to build a model that combines `piston_modified`  with a Bayesian NN to compensate for modelling errors. Answer these questions?\n",
    "1. using the previous training dataset, predict C for the test set below using `piston_modified` alone\n",
    "2. using the previous training dataset, predict C for the test set below using a Bayesian NN alone\n",
    "3. using the previous training dataset, predict C for the test set below using a model that combines `piston_modified`  with a Bayesian NN\n",
    "4. evaluate the prediction error, compare the three models and also compare their prediction at Xtest=np.array([[45,0.015,0.008,3500,100000,290,341]])\n",
    "\n"
   ]
  },
  {
   "cell_type": "code",
   "execution_count": 30,
   "metadata": {},
   "outputs": [
    {
     "data": {
      "text/plain": [
       "array([[3.83808653e+01, 1.38666961e-02, 9.15863759e+04, 2.92783750e+02],\n",
       "       [5.88311290e+01, 1.26914693e-02, 9.90470313e+04, 2.92444115e+02],\n",
       "       [3.29439647e+01, 5.37188661e-03, 9.88431149e+04, 2.95948475e+02],\n",
       "       ...,\n",
       "       [3.28710930e+01, 1.97931696e-02, 9.11207319e+04, 2.90825935e+02],\n",
       "       [5.16603217e+01, 1.32017445e-02, 9.94360233e+04, 2.93520831e+02],\n",
       "       [4.18096556e+01, 1.90887090e-02, 1.02619836e+05, 2.95698462e+02]])"
      ]
     },
     "execution_count": 30,
     "metadata": {},
     "output_type": "execute_result"
    }
   ],
   "source": [
    "\n",
    "# We make a test dataset\n",
    "n=400\n",
    "M=np.random.uniform(30, 60, n)[:,None] #piston weight (kg)\n",
    "S=np.random.uniform(0.005, 0.020, n)[:,None] #piston surface area (m2)\n",
    "V0=0.005*np.ones(n)[:,None]; #UNKNOWN \n",
    "k=3500*np.ones(n)[:,None] #UNKNOWN \n",
    "P0=np.random.uniform(90000, 110000, n)[:,None] #atmospheric pressure (N/m2)\n",
    "Ta=np.random.uniform(290, 296, n)[:,None] #ambient temperature (K)\n",
    "T0=347*np.ones(n)[:,None]#UNKNOWN \n",
    "\n",
    "np.random.seed(100)\n",
    "Xte=np.hstack([M,S,V0,k,P0,Ta,T0])#dataset\n",
    "Yte=[]\n",
    "for i in range(n):\n",
    "    Yte.append(piston(Xte[i,:])+np.random.randn(1)*0.01)#we add some Gaussian noise\n",
    "Yte=np.array(Yte)\n",
    "\n",
    "Xte=Xte[:,[0,1,4,5]]#we drop the columns we do not know. This is test set input.\n",
    "Xte"
   ]
  },
  {
   "cell_type": "code",
   "execution_count": null,
   "metadata": {},
   "outputs": [],
   "source": []
  }
 ],
 "metadata": {
  "kernelspec": {
   "display_name": "Python 3",
   "language": "python",
   "name": "python3"
  },
  "language_info": {
   "codemirror_mode": {
    "name": "ipython",
    "version": 3
   },
   "file_extension": ".py",
   "mimetype": "text/x-python",
   "name": "python",
   "nbconvert_exporter": "python",
   "pygments_lexer": "ipython3",
   "version": "3.6.9"
  },
  "toc": {
   "base_numbering": 1,
   "nav_menu": {},
   "number_sections": true,
   "sideBar": true,
   "skip_h1_title": false,
   "title_cell": "Table of Contents",
   "title_sidebar": "Contents",
   "toc_cell": false,
   "toc_position": {},
   "toc_section_display": true,
   "toc_window_display": false
  }
 },
 "nbformat": 4,
 "nbformat_minor": 4
}
