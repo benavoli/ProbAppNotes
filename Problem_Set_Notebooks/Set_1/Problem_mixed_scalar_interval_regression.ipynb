{
 "cells": [
  {
   "cell_type": "markdown",
   "metadata": {},
   "source": [
    "## Mixed data type\n",
    "In many applications we must deal with mixed measurements (outputs). We consider again the manufacturing dataset including the temperature of the manufacturing process and the quality of the final product.\n",
    "However, in this case, we have two different types of quality measurements:\n",
    "\n",
    "1. interval data $[y^l_i,y^u_i]$\n",
    "2. scalar data $y_i$\n",
    "\n",
    "the input is the temperature $t_i$.\n",
    "\n",
    "You goal is to implement a Bayesian linear regression model with mixed type outputs. That is you must implement the following probabilistic model:\n",
    "\n",
    "**Likelihood**\n",
    "\n",
    "Scalar data: \n",
    "$$\n",
    "p(y_i|\\alpha,\\beta,\\sigma, t_i)=N(y_i;\\mu_i, \\sigma)\n",
    "$$\n",
    "with $\\mu_i=\\alpha+\\beta t_i$.\n",
    "\n",
    "Interval data\n",
    "$$\n",
    "p(y^l_i,y^u_i|\\alpha,\\beta,\\sigma,t_i)=\\Phi((y^u_i-\\mu_i)/\\sigma,0,1)\\Phi(-(y^l_i-\\mu_i)/\\sigma,0,1)\n",
    "$$\n",
    "with $\\mu_i=\\alpha+\\beta t_i$.\n",
    "\n",
    "Therefore, assuming the observations are independent\n",
    "\n",
    "$$\n",
    "p(Data|\\alpha,\\beta,\\sigma)=\\prod_{i=1}^{n_s}N(y_i;\\mu_i, \\sigma)\\prod_{i=1}^{n_r}\\Phi((y^u_i-\\mu_i)/\\sigma,0,1)\\Phi(-(y^l_i-\\mu_i)/\\sigma,0,1)\n",
    "$$\n",
    "where $n_r$ is the number of measurements of type \"interval\" and  $n_s$ is the number of measurements of type \"scalar\"\n",
    "\n",
    "**Prior**\n",
    "$$\n",
    "p(\\alpha)=N(\\alpha,0,30), ~~p(\\beta)=N(\\beta,0,30), ~~p(\\sigma)=\\text{Uniform}(\\sigma,0.0001,30)\n",
    "$$\n",
    "\n",
    "**Posterior** \n",
    "You have to use PyMC3 to sample from the posterior define by the above model, that is\n",
    "\n",
    "$$\n",
    "\\underbrace{p(\\alpha,\\beta,\\sigma|\\text{data})}_{\\text{posterior}} = \\frac{\\underbrace{\\prod_{i=1}^{n_s}N(y_i;\\mu_i, \\sigma)\\prod_{i=1}^{n_r}\\Phi((y^u_i-\\mu_i)/\\sigma,0,1)\\Phi(-(y^l_i-\\mu_i)/\\sigma,0,1)}_{\\text{likelihood}}\\underbrace{N(\\alpha,0,30)N(\\alpha,0,30)\\text{Uniform}(\\sigma,0.001,30)}_{\\text{prior}}}{\\underbrace{p(\\text{data})}_{\\text{evidence}}}\n",
    "$$\n",
    "\n",
    "**Question**\n",
    "Our goal is to answer the following question: Can we guarantee that the quality of a product manufactured a 320 degree is at least $7.2$? Let's assume that this is important to satisfy a requirement from a customer.\n",
    "\n",
    "Hereafter, we provided a code to load the dataset."
   ]
  },
  {
   "cell_type": "code",
   "execution_count": 95,
   "metadata": {},
   "outputs": [
    {
     "data": {
      "text/html": [
       "<div>\n",
       "<style scoped>\n",
       "    .dataframe tbody tr th:only-of-type {\n",
       "        vertical-align: middle;\n",
       "    }\n",
       "\n",
       "    .dataframe tbody tr th {\n",
       "        vertical-align: top;\n",
       "    }\n",
       "\n",
       "    .dataframe thead th {\n",
       "        text-align: right;\n",
       "    }\n",
       "</style>\n",
       "<table border=\"1\" class=\"dataframe\">\n",
       "  <thead>\n",
       "    <tr style=\"text-align: right;\">\n",
       "      <th></th>\n",
       "      <th>temperature</th>\n",
       "      <th>Quality</th>\n",
       "    </tr>\n",
       "  </thead>\n",
       "  <tbody>\n",
       "    <tr>\n",
       "      <th>0</th>\n",
       "      <td>184.0</td>\n",
       "      <td>[3.86]</td>\n",
       "    </tr>\n",
       "    <tr>\n",
       "      <th>1</th>\n",
       "      <td>244.0</td>\n",
       "      <td>[4.0, 6.0]</td>\n",
       "    </tr>\n",
       "    <tr>\n",
       "      <th>2</th>\n",
       "      <td>100.0</td>\n",
       "      <td>[0.0, 3.0]</td>\n",
       "    </tr>\n",
       "    <tr>\n",
       "      <th>3</th>\n",
       "      <td>160.0</td>\n",
       "      <td>[2.0, 4.0]</td>\n",
       "    </tr>\n",
       "    <tr>\n",
       "      <th>4</th>\n",
       "      <td>130.0</td>\n",
       "      <td>[2.0, 4.0]</td>\n",
       "    </tr>\n",
       "    <tr>\n",
       "      <th>5</th>\n",
       "      <td>118.0</td>\n",
       "      <td>[1.0, 4.0]</td>\n",
       "    </tr>\n",
       "    <tr>\n",
       "      <th>6</th>\n",
       "      <td>138.0</td>\n",
       "      <td>[1.0, 4.0]</td>\n",
       "    </tr>\n",
       "    <tr>\n",
       "      <th>7</th>\n",
       "      <td>170.0</td>\n",
       "      <td>[1.0, 4.0]</td>\n",
       "    </tr>\n",
       "    <tr>\n",
       "      <th>8</th>\n",
       "      <td>180.0</td>\n",
       "      <td>[2.0, 5.0]</td>\n",
       "    </tr>\n",
       "    <tr>\n",
       "      <th>9</th>\n",
       "      <td>208.0</td>\n",
       "      <td>[2.0, 6.0]</td>\n",
       "    </tr>\n",
       "  </tbody>\n",
       "</table>\n",
       "</div>"
      ],
      "text/plain": [
       "   temperature     Quality\n",
       "0        184.0      [3.86]\n",
       "1        244.0  [4.0, 6.0]\n",
       "2        100.0  [0.0, 3.0]\n",
       "3        160.0  [2.0, 4.0]\n",
       "4        130.0  [2.0, 4.0]\n",
       "5        118.0  [1.0, 4.0]\n",
       "6        138.0  [1.0, 4.0]\n",
       "7        170.0  [1.0, 4.0]\n",
       "8        180.0  [2.0, 5.0]\n",
       "9        208.0  [2.0, 6.0]"
      ]
     },
     "execution_count": 95,
     "metadata": {},
     "output_type": "execute_result"
    }
   ],
   "source": [
    "import numpy as np\n",
    "import numpy as np\n",
    "import pymc3 as pm\n",
    "import scipy.stats as stats\n",
    "import matplotlib.pyplot as plt\n",
    "import pandas as pd\n",
    "import arviz as az\n",
    "import ast \n",
    "\n",
    "df=pd.read_csv(\"../datasets/manufacturing_quality_mixed_scalar_interval.csv\",delimiter=\",\")\n",
    "df=df.iloc[:,1:]\n",
    "df.head(10)"
   ]
  },
  {
   "cell_type": "markdown",
   "metadata": {},
   "source": [
    "Note that the first quality measurement is a scalar, while the second is an interval."
   ]
  },
  {
   "cell_type": "code",
   "execution_count": 96,
   "metadata": {},
   "outputs": [],
   "source": [
    "Y=[]\n",
    "for i in range(len(df.iloc[:,1])):\n",
    "    Y.append(ast.literal_eval(df.iloc[i,1]))\n",
    "temperatures=df.iloc[:,0].values\n",
    "sizes=[len(d) for d in Y]\n",
    "sizes=np.array(sizes)\n",
    "\n",
    "tn=temperatures[sizes==1]#temperatures for the scalar observations\n",
    "ti=temperatures[sizes==2]#temperatures for the interval observations\n",
    "\n",
    "yn=np.vstack(np.array(Y)[sizes==1])#scalar observations\n",
    "Yi=np.vstack(np.array(Y)[sizes==2])#interval observations\n",
    "yl=Yi[:,0]#lower\n",
    "yu=Yi[:,1]#upper"
   ]
  },
  {
   "cell_type": "code",
   "execution_count": 97,
   "metadata": {},
   "outputs": [
    {
     "data": {
      "image/png": "[encoded data removed]",
      "text/plain": [
       "<Figure size 432x288 with 1 Axes>"
      ]
     },
     "metadata": {
      "needs_background": "light"
     },
     "output_type": "display_data"
    }
   ],
   "source": [
    "plt.scatter(ti,yl, color='C0' ,label='lower')\n",
    "plt.scatter(ti,yu, color='C1'  ,label='upper')\n",
    "plt.scatter(tn,yn, color='C2'  ,label='scalar')\n",
    "plt.legend()\n",
    "plt.xlabel(\"temperature\",fontsize=16)\n",
    "plt.ylabel(\"quality\",fontsize=16);"
   ]
  },
  {
   "cell_type": "markdown",
   "metadata": {},
   "source": [
    "## Solution \n",
    "This is the solution you should obtain\n",
    "\n",
    "![alt text](solution_problem_mixed1.png \"Regression lines and uncertainty\")\n",
    "![alt text](solution_problem_mixed2.png \"Posterior uncertainty at 320\")"
   ]
  },
  {
   "cell_type": "code",
   "execution_count": null,
   "metadata": {},
   "outputs": [],
   "source": []
  }
 ],
 "metadata": {
  "kernelspec": {
   "display_name": "Python 3",
   "language": "python",
   "name": "python3"
  },
  "language_info": {
   "codemirror_mode": {
    "name": "ipython",
    "version": 3
   },
   "file_extension": ".py",
   "mimetype": "text/x-python",
   "name": "python",
   "nbconvert_exporter": "python",
   "pygments_lexer": "ipython3",
   "version": "3.6.9"
  },
  "toc": {
   "base_numbering": 1,
   "nav_menu": {},
   "number_sections": true,
   "sideBar": true,
   "skip_h1_title": false,
   "title_cell": "Table of Contents",
   "title_sidebar": "Contents",
   "toc_cell": false,
   "toc_position": {},
   "toc_section_display": true,
   "toc_window_display": false
  }
 },
 "nbformat": 4,
 "nbformat_minor": 4
}
