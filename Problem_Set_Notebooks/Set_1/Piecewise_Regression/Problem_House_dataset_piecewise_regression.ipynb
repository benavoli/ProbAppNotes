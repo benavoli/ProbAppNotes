{
 "cells": [
  {
   "cell_type": "markdown",
   "metadata": {},
   "source": [
    "# Problem House pricing piecewise linear regression\n",
    "\n",
    "The goal of this notebook is to improve the prediction performance of the Bayesian linear regression model in the notebook `House_dataset_regression` by using a piecewise linear regression model (4 linear models).\n",
    "\n",
    "In particular, we will use a Gaussian Mixture Model clustering algorithm to cluster the inputs in 4 clusters using the latitude and longitude as clustering variables. The intuition is that, since the house price strongly depends on the location of the house (given similar features), this should help us to improve the performance.\n",
    "\n",
    "Your goal is to implement a different Bayesian linear regression model for each group of clustered houses and then:\n",
    "1. perform posterior predictive checks separately for each clustered training dataset\n",
    "2. compute the MAE separately for each clustered test set\n",
    "3. perform  posterior predictive checks for  the training data (all together) by simply joining the 4 different predictions\n",
    "4. compute the MAE for all the test set\n",
    "5. perform  posterior predictive checks for  the test data (all together) by simply joining the 4 different predictions\n",
    "\n",
    "You should obtain the following results for the MAE:\n",
    "\n",
    "    Size Cluster0 258 , MAE Cluster0= 203964.66881499\n",
    "    Size Cluster1 85 , MAE Cluster1= 216034.99530180823\n",
    "    Size Cluster2 81 , MAE Cluster2= 202778.29337653224\n",
    "    Size Cluster3 66 , MAE Cluster3= 144075.32799975947\n",
    "    MAE overall= 197795.6582987844\n",
    "\n",
    "\n",
    "The following code loads the data and split the dataset in four parts.\n",
    "\n",
    "Note that using GMM for clustering is not optimal because it does not consider the other inputs and the value of the output. There are much better ways to implement piecewise linear models that can learn how to cluster the data in an optimal way for the regression problem (similar to regression trees). \n",
    "If you are interested in reading more about that, this gives you an overview \n",
    "http://hedibert.org/wp-content/uploads/2018/06/bayesian-CART.pdf (optional)"
   ]
  },
  {
   "cell_type": "markdown",
   "metadata": {},
   "source": [
    "### load dataset"
   ]
  },
  {
   "cell_type": "code",
   "execution_count": 1,
   "metadata": {},
   "outputs": [],
   "source": [
    "import pandas as pd\n",
    "import matplotlib.pyplot as plt\n",
    "import numpy as np\n",
    "import pymc3 as pm\n",
    "import arviz as az\n",
    "from sklearn.preprocessing import StandardScaler\n",
    "\n",
    "dftrain = pd.read_csv(\"../datasets/house_price_csv/train.csv\",index_col='ad_id')\n",
    "dftest  = pd.read_csv( \"../datasets/house_price_csv/test.csv\",index_col='ad_id')\n",
    "dfyte=pd.read_csv(\"../datasets/house_price_csv/true_price.csv\")\n",
    "ytest_price=dfyte.Expected.values\n",
    "\n",
    "#select some features columns just for the baseline model\n",
    "df_subset_train = dftrain[['bathrooms','beds','surface','latitude','longitude','price']].dropna(axis=0)\n",
    "df_subset_test  =  dftest[['bathrooms','beds','surface','latitude','longitude']]\n",
    "\n",
    "X = df_subset_train.iloc[:,0:-1].values #input columns\n",
    "y = df_subset_train.iloc[:,-1].values.reshape(-1,1)   #output column, price\n",
    "#test set\n",
    "Xtest = df_subset_test.iloc[:,0:].values #input columns\n",
    "\n",
    "#Cleaning\n",
    "ind=np.where((X[:,0]==0) & (X[:,1]==0))[0]\n",
    "X=np.delete(X,ind,axis=0)#0 bathrooms, 0 bedrooms\n",
    "y=np.delete(y,ind,axis=0)#0 bathrooms, 0 bedrooms\n",
    "\n",
    "ind=np.where((X[:,2]==0))[0]\n",
    "X=np.delete(X,ind,axis=0)#0 surface\n",
    "y=np.delete(y,ind,axis=0)#0 surface\n",
    "\n",
    "#removeing possible outliers\n",
    "\n",
    "IND=np.array([  42,  166,  326,  537, 1201]) #np.unique(np.hstack(IND),axis=0)\n",
    "X=np.delete(X,IND,0)\n",
    "y=np.delete(y,IND,0)\n",
    "\n",
    "#Cleaning\n",
    "ind=np.where((Xtest[:,0]==0) & (Xtest[:,1]==0))[0]\n",
    "Xtest=np.delete(Xtest,ind,axis=0)#0 bathrooms, 0 bedrooms\n",
    "ytest_price=np.delete(ytest_price,ind,axis=0)#0 bathrooms, 0 bedrooms\n",
    "\n",
    "X=np.hstack([X,X[:,[2]]**2])\n",
    "xscaler = StandardScaler().fit(X)\n",
    "Xn=xscaler.transform(X)\n",
    "Xtest=np.hstack([Xtest,Xtest[:,[2]]**2])\n",
    "Xtestn=xscaler.transform(Xtest)\n",
    "\n",
    "yscaler = StandardScaler().fit(y)\n",
    "yn=yscaler.transform(y)"
   ]
  },
  {
   "cell_type": "markdown",
   "metadata": {},
   "source": [
    "## Clustering in 4 parts"
   ]
  },
  {
   "cell_type": "code",
   "execution_count": 2,
   "metadata": {},
   "outputs": [
    {
     "data": {
      "image/png": "[encoded data removed]",
      "text/plain": [
       "<Figure size 432x288 with 1 Axes>"
      ]
     },
     "metadata": {
      "needs_background": "light"
     },
     "output_type": "display_data"
    }
   ],
   "source": [
    "# training gaussian mixture model \n",
    "from sklearn.mixture import GaussianMixture\n",
    "gmm = GaussianMixture(n_components=4)\n",
    "#we cluster by lat and long\n",
    "ind=[3,4]\n",
    "XX=np.vstack([Xn[:,ind],Xtestn[:,ind]])\n",
    "XX=np.vstack([Xn[:,ind],Xtestn[:,ind]])\n",
    "gmm.fit(XX)\n",
    "plt.scatter(XX[:,0],XX[:,1])\n",
    "#plt.scatter(kmeans.cluster_centers_[:,0],kmeans.cluster_centers_[:,1])\n",
    "plt.scatter(gmm.means_[:,0],gmm.means_[:,1])\n",
    "\n",
    "clusters_ind = gmm.predict(Xn[:,ind])\n",
    "clusters_ind_te = gmm.predict(Xtestn[:,ind])\n",
    "\n",
    "Xn0=Xn[clusters_ind==0,:]\n",
    "Xtestn0=Xtestn[clusters_ind_te==0,:]\n",
    "ylog0=np.log(y[clusters_ind==0,:])\n",
    "yscaler0 = StandardScaler().fit(ylog0)\n",
    "yn0=yscaler0.transform(ylog0)\n",
    "\n",
    "\n",
    "Xn1=Xn[clusters_ind==1,:]\n",
    "Xtestn1=Xtestn[clusters_ind_te==1,:]\n",
    "ylog1=np.log(y[clusters_ind==1,:])\n",
    "yscaler1 = StandardScaler().fit(ylog1)\n",
    "yn1=yscaler1.transform(ylog1)\n",
    "\n",
    "Xn2=Xn[clusters_ind==2,:]\n",
    "Xtestn2=Xtestn[clusters_ind_te==2,:]\n",
    "ylog2=np.log(y[clusters_ind==2,:])\n",
    "yscaler2 = StandardScaler().fit(ylog2)\n",
    "yn2=yscaler2.transform(ylog2)\n",
    "\n",
    "Xn3=Xn[clusters_ind==3,:]\n",
    "Xtestn3=Xtestn[clusters_ind_te==3,:]\n",
    "ylog3=np.log(y[clusters_ind==3,:])\n",
    "yscaler3 = StandardScaler().fit(ylog3)\n",
    "yn3=yscaler3.transform(ylog3)"
   ]
  },
  {
   "cell_type": "markdown",
   "metadata": {},
   "source": [
    "## Linear regression model\n",
    "\n",
    "For each cluster, consider the following linear regression model\n",
    "\n",
    "$$\n",
    "price = \\alpha + \\beta_1 \\text{bathrooms}+ \\beta_2 \\text{beds} + \\beta_3 \\text{surface} + \\beta_4 \\text{latitude} + \\beta_5 \\text{longitude} + \\beta_6 \\text{surface}^2 + noise\n",
    "$$\n",
    "\n",
    "Note that we have added $ \\text{surface}^2$ to account for the nonlinear dependence of the the price on the house area (surface). We have  also assumed that there is (observation) noise in our model. We assume that the noise is Gaussian with zero mean and variance $\\sigma^2$.\n",
    "\n",
    "$$\n",
    "noise \\sim Normal(0,\\sigma^2)\n",
    "$$\n"
   ]
  }
 ],
 "metadata": {
  "kernelspec": {
   "display_name": "Python 3",
   "language": "python",
   "name": "python3"
  },
  "language_info": {
   "codemirror_mode": {
    "name": "ipython",
    "version": 3
   },
   "file_extension": ".py",
   "mimetype": "text/x-python",
   "name": "python",
   "nbconvert_exporter": "python",
   "pygments_lexer": "ipython3",
   "version": "3.6.9"
  },
  "toc": {
   "base_numbering": 1,
   "nav_menu": {},
   "number_sections": false,
   "sideBar": true,
   "skip_h1_title": false,
   "title_cell": "Table of Contents",
   "title_sidebar": "Contents",
   "toc_cell": false,
   "toc_position": {},
   "toc_section_display": true,
   "toc_window_display": false
  }
 },
 "nbformat": 4,
 "nbformat_minor": 2
}
